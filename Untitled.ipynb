{
 "cells": [
  {
   "cell_type": "code",
   "execution_count": 6,
   "id": "4d9bf437-2457-41cf-9836-3210962f9ec0",
   "metadata": {},
   "outputs": [],
   "source": [
    "import threading"
   ]
  },
  {
   "cell_type": "code",
   "execution_count": 206,
   "id": "6f092bf4-61b4-4d65-937a-71631bdb0b0c",
   "metadata": {},
   "outputs": [],
   "source": [
    "import threading\n",
    "import ctypes\n",
    "\n",
    "class ClockCycle:\n",
    "    freq = 1  # Hz\n",
    "    duty_cycle = 0.5  # %50\n",
    "\n",
    "    def __init__(self, duty_cycle, freq, A3):\n",
    "        self.duty_cycle = duty_cycle\n",
    "        self.freq = freq\n",
    "        self.A3 = A3  # Mutable bir nesne olsaydı, adres sabit kalırdı.\n",
    "        self.task = None  # Timer nesnesi\n",
    "        self.adress = id(self.A3)  # İlk adresi sakla\n",
    "        #print(f\"Başlangıçta A3 Adresi: {self.adress}\")\n",
    "        self.start_clock()  # Saati başlat\n",
    "        \n",
    "    def start_clock(self):\n",
    "        self.HIGH()  # Döngüyü başlat\n",
    "\n",
    "    def HIGH(self):\n",
    "        self.A3 = 1  # A3 HIGH (1)\n",
    "        #self.adress = id(self.A3)  # A3 adresini güncelle\n",
    "        #print(f\"HIGH: A3 = {self.A3}, Adres: {self.adress}\")\n",
    "        self.task = threading.Timer(self.duty_cycle / self.freq, self.LOW)\n",
    "        self.task.start()\n",
    "\n",
    "    def LOW(self):\n",
    "        self.A3 = 0  # A3 LOW (0)\n",
    "        #self.adress = id(self.A3)  # A3 adresini güncelle\n",
    "        #print(f\"LOW: A3 = {self.A3}, Adres: {self.adress}\")\n",
    "        self.task = threading.Timer((1 - self.duty_cycle) / self.freq, self.HIGH)\n",
    "        self.task.start()\n",
    "\n",
    "    def StopClock(self):\n",
    "        if self.task:\n",
    "            self.task.cancel()  # Görevi iptal et\n",
    "            print(\"Clock stopped.\")\n",
    "\n",
    "\n",
    "# Örnek kullanım:\n",
    "clock = ClockCycle(duty_cycle=0.5, freq=8, A3=0)\n",
    "\n",
    "\n"
   ]
  },
  {
   "cell_type": "code",
   "execution_count": 205,
   "id": "945d8e23-df56-4399-8b4c-98d457d963ef",
   "metadata": {},
   "outputs": [
    {
     "name": "stdout",
     "output_type": "stream",
     "text": [
      "Clock stopped.\n"
     ]
    }
   ],
   "source": [
    "clock.StopClock()"
   ]
  },
  {
   "cell_type": "code",
   "execution_count": 114,
   "id": "f8c21f1b-77f9-46b9-80c0-8f3ac6bceccb",
   "metadata": {},
   "outputs": [
    {
     "data": {
      "text/plain": [
       "136785490346192"
      ]
     },
     "execution_count": 114,
     "metadata": {},
     "output_type": "execute_result"
    }
   ],
   "source": [
    "clock.adress"
   ]
  },
  {
   "cell_type": "code",
   "execution_count": 168,
   "id": "a57a7f0b-8261-43af-ba77-825b0e6d1a8b",
   "metadata": {},
   "outputs": [
    {
     "data": {
      "text/plain": [
       "0"
      ]
     },
     "execution_count": 168,
     "metadata": {},
     "output_type": "execute_result"
    }
   ],
   "source": [
    "clock.A3"
   ]
  },
  {
   "cell_type": "code",
   "execution_count": 5,
   "id": "b1f88033-ef80-4674-8e8e-d04fde4c82b9",
   "metadata": {},
   "outputs": [
    {
     "ename": "NameError",
     "evalue": "name 'clock' is not defined",
     "output_type": "error",
     "traceback": [
      "\u001b[0;31m---------------------------------------------------------------------------\u001b[0m",
      "\u001b[0;31mNameError\u001b[0m                                 Traceback (most recent call last)",
      "Cell \u001b[0;32mIn[5], line 5\u001b[0m\n\u001b[1;32m      3\u001b[0m yukselenKenar\u001b[38;5;241m=\u001b[39m\u001b[38;5;28;01mFalse\u001b[39;00m\n\u001b[1;32m      4\u001b[0m \u001b[38;5;28;01mwhile\u001b[39;00m data:\n\u001b[0;32m----> 5\u001b[0m     \u001b[38;5;28;01mif\u001b[39;00m \u001b[38;5;129;01mnot\u001b[39;00m \u001b[43mclock\u001b[49m\u001b[38;5;241m.\u001b[39mA3:\n\u001b[1;32m      6\u001b[0m         yukselenKenar\u001b[38;5;241m=\u001b[39m\u001b[38;5;28;01mFalse\u001b[39;00m\n\u001b[1;32m      7\u001b[0m     \u001b[38;5;28;01melif\u001b[39;00m clock\u001b[38;5;241m.\u001b[39mA3:\n",
      "\u001b[0;31mNameError\u001b[0m: name 'clock' is not defined"
     ]
    }
   ],
   "source": [
    "\n",
    "data=[1,0,0,1,0,1,1,1]\n",
    "\n",
    "yukselenKenar=False\n",
    "while data:\n",
    "    if not clock.A3:\n",
    "        yukselenKenar=False\n",
    "    elif clock.A3:\n",
    "        if not yukselenKenar:\n",
    "            yukselenKenar=True\n",
    "            print(data.pop())\n",
    "        \n",
    "\n",
    "        \n",
    "        "
   ]
  },
  {
   "cell_type": "code",
   "execution_count": 5,
   "id": "247d2a89-93f9-44c3-b397-6685c73c8620",
   "metadata": {},
   "outputs": [
    {
     "name": "stdout",
     "output_type": "stream",
     "text": [
      "0\n",
      "Sending bit: b'\\x01'\n",
      "1\n",
      "Sending bit: b'\\x00'\n",
      "0\n",
      "Sending bit: b'\\x01'\n",
      "1\n",
      "Sending bit: b'\\x00'\n",
      "0\n",
      "Sending bit: b'\\x01'\n",
      "1\n",
      "Sending bit: b'\\x00'\n",
      "0\n",
      "Sending bit: b'\\x01'\n",
      "1\n",
      "Sending bit: b'\\x00'\n",
      "0\n",
      "0\n",
      "0\n",
      "0\n",
      "0\n",
      "0\n",
      "0\n",
      "0\n",
      "0\n",
      "0\n",
      "0\n",
      "0\n",
      "Clock stopped.\n",
      "0\n",
      "0\n",
      "0\n",
      "0\n",
      "0\n",
      "0\n",
      "0\n",
      "0\n",
      "0\n",
      "0\n",
      "0\n",
      "0\n",
      "0\n",
      "0\n",
      "0\n",
      "0\n",
      "0\n",
      "0\n",
      "0\n",
      "0\n",
      "0\n",
      "0\n",
      "0\n",
      "0\n",
      "0\n",
      "0\n",
      "0\n",
      "0\n",
      "0\n",
      "0\n",
      "0\n",
      "0\n",
      "0\n",
      "0\n",
      "0\n",
      "0\n",
      "0\n",
      "0\n",
      "0\n",
      "0\n",
      "0\n",
      "0\n",
      "0\n",
      "0\n",
      "0\n",
      "0\n",
      "0\n",
      "0\n",
      "0\n",
      "0\n",
      "0\n",
      "0\n",
      "0\n",
      "0\n",
      "0\n",
      "0\n"
     ]
    }
   ],
   "source": [
    "\n",
    "import threading\n",
    "import ctypes\n",
    "import serial\n",
    "import time\n",
    "class ClockCycle:\n",
    "    freq = 1  # Hz\n",
    "    duty_cycle = 0.5  # %50\n",
    "\n",
    "    def __init__(self, duty_cycle, freq, A3, uart_port):\n",
    "        self.duty_cycle = duty_cycle\n",
    "        self.freq = freq\n",
    "        self.A3 = A3  # Mutable bir nesne olsaydı, adres sabit kalırdı.\n",
    "        self.A4=1\n",
    "        self.task = None  # Timer nesnesi\n",
    "        self.adress = id(self.A3)  # İlk adresi sakla\n",
    "        self.uart_port = uart_port  # UART portu\n",
    "        self.bit_index = 0  # Verinin hangi bitini gönderdiğimizi takip etmek\n",
    "        self.data = 0b10101010  # Göndermek istediğiniz 8 bitlik veri (örnek)\n",
    "        self.start_clock()  # Saati başlat\n",
    "\n",
    "    def start_clock(self):\n",
    "        self.HIGH()  # Döngüyü başlat\n",
    "\n",
    "    def HIGH(self):\n",
    "        self.A3 = 1  # A3 HIGH (1)\n",
    "        self.send_bit()  # Veriyi gönder\n",
    "        self.task = threading.Timer(self.duty_cycle / self.freq, self.LOW)\n",
    "        self.task.start()\n",
    "\n",
    "    def LOW(self):\n",
    "        self.A3 = 0  # A3 LOW (0)\n",
    "        self.task = threading.Timer((1 - self.duty_cycle) / self.freq, self.HIGH)\n",
    "        self.task.start()\n",
    "\n",
    "    def send_bit(self):\n",
    "        if self.bit_index < 8:\n",
    "            bit = (self.data >> (7 - self.bit_index)) & 1\n",
    "            print(f\"Sending bit: {bytes([bit])}\")\n",
    "            \n",
    "            #self.uart_port.write(bytes([bit]))  # UART üzerinden bit gönder\n",
    "            self.bit_index += 1\n",
    "            self.A4=bit\n",
    "\n",
    "    def StopClock(self):\n",
    "        if self.task:\n",
    "            self.task.cancel()  # Görevi iptal et\n",
    "            print(\"Clock stopped.\")\n",
    "\n",
    "# UART bağlantısını ayarlayın\n",
    "ser = serial.Serial('/dev/ttyS4', baudrate=9600, timeout=1)\n",
    "\n",
    "# Örnek kullanım:\n",
    "clock = ClockCycle(duty_cycle=0.5, freq=10, A3=0, uart_port=ser)\n",
    "\n",
    "# Clock sinyali göndermeye başladıktan sonra, bir süre bekleyip durdurabilirsiniz\n",
    "time.sleep(2)  # 2 saniye çalıştır\n",
    "clock.StopClock()  # Clock'u durdur\n"
   ]
  },
  {
   "cell_type": "code",
   "execution_count": 4,
   "id": "166c8900-7c64-45b5-934d-c45ac15846ca",
   "metadata": {},
   "outputs": [
    {
     "name": "stdout",
     "output_type": "stream",
     "text": [
      "0\n",
      "0\n",
      "0\n",
      "0\n",
      "0\n",
      "0\n",
      "0\n",
      "0\n",
      "0\n",
      "0\n",
      "0\n",
      "0\n",
      "0\n",
      "0\n",
      "0\n",
      "0\n",
      "0\n",
      "0\n",
      "0\n",
      "0\n",
      "0\n",
      "0\n",
      "0\n"
     ]
    }
   ],
   "source": [
    "\n",
    "import threading\n",
    "import ctypes\n",
    "import serial\n",
    "import time\n",
    "class ClockCycle2:\n",
    "    freq = 1  # Hz\n",
    "    duty_cycle = 0.5  # %50\n",
    "\n",
    "    def __init__(self, duty_cycle, freq,clock):\n",
    "        self.duty_cycle = duty_cycle\n",
    "        self.freq = freq\n",
    "        self.task = None  # Timer nesnesi\n",
    "        self.start_clock()  # Saati başlat\n",
    "\n",
    "    def start_clock(self):\n",
    "        self.HIGH()  # Döngüyü başlat\n",
    "\n",
    "    def HIGH(self):\n",
    "        print(clock.A4)\n",
    "        self.task = threading.Timer(self.duty_cycle / self.freq, self.LOW)\n",
    "        self.task.start()\n",
    "\n",
    "    def LOW(self):\n",
    "        self.task = threading.Timer((1 - self.duty_cycle) / self.freq, self.HIGH)\n",
    "        self.task.start()\n",
    "\n",
    "\n",
    "    def StopClock(self):\n",
    "        if self.task:\n",
    "            self.task.cancel()  # Görevi iptal et\n",
    "            print(\"Clock stopped.\")\n",
    "\n",
    "\n",
    "# Örnek kullanım:\n",
    "clock2 = ClockCycle2(duty_cycle=0.5, freq=5,clock=clock)\n",
    "\n",
    "# Clock sinyali göndermeye başladıktan sonra, bir süre bekleyip durdurabilirsiniz\n",
    "#time.sleep(2)  # 2 saniye çalıştır\n",
    "#clock.StopClock()  # Clock'u durdur\n"
   ]
  },
  {
   "cell_type": "code",
   "execution_count": null,
   "id": "ae6c86a0-8174-4df7-baa4-78a8703a5c4e",
   "metadata": {},
   "outputs": [],
   "source": []
  },
  {
   "cell_type": "code",
   "execution_count": null,
   "id": "45fc3f6e-8b0d-4174-97c2-719bf20f9cde",
   "metadata": {},
   "outputs": [],
   "source": []
  },
  {
   "cell_type": "code",
   "execution_count": null,
   "id": "6b04ac11-c634-4718-8cf0-9940b0b84cb2",
   "metadata": {},
   "outputs": [],
   "source": []
  }
 ],
 "metadata": {
  "kernelspec": {
   "display_name": "Python 3 (ipykernel)",
   "language": "python",
   "name": "python3"
  },
  "language_info": {
   "codemirror_mode": {
    "name": "ipython",
    "version": 3
   },
   "file_extension": ".py",
   "mimetype": "text/x-python",
   "name": "python",
   "nbconvert_exporter": "python",
   "pygments_lexer": "ipython3",
   "version": "3.10.12"
  }
 },
 "nbformat": 4,
 "nbformat_minor": 5
}
