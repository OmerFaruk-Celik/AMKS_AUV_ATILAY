{
 "cells": [
  {
   "cell_type": "code",
   "execution_count": 15,
   "id": "27ca997d-6581-4d1f-aa7f-6277705c9c68",
   "metadata": {},
   "outputs": [
    {
     "name": "stderr",
     "output_type": "stream",
     "text": [
      "ALSA lib pcm.c:2664:(snd_pcm_open_noupdate) Unknown PCM cards.pcm.rear\n",
      "ALSA lib pcm.c:2664:(snd_pcm_open_noupdate) Unknown PCM cards.pcm.center_lfe\n",
      "ALSA lib pcm.c:2664:(snd_pcm_open_noupdate) Unknown PCM cards.pcm.side\n",
      "ALSA lib pcm_route.c:877:(find_matching_chmap) Found no matching channel map\n",
      "ALSA lib pcm_route.c:877:(find_matching_chmap) Found no matching channel map\n",
      "ALSA lib pcm_route.c:877:(find_matching_chmap) Found no matching channel map\n",
      "ALSA lib pcm_route.c:877:(find_matching_chmap) Found no matching channel map\n",
      "ALSA lib pcm_oss.c:397:(_snd_pcm_oss_open) Cannot open device /dev/dsp\n",
      "ALSA lib pcm_oss.c:397:(_snd_pcm_oss_open) Cannot open device /dev/dsp\n",
      "ALSA lib confmisc.c:160:(snd_config_get_card) Invalid field card\n",
      "ALSA lib pcm_usb_stream.c:482:(_snd_pcm_usb_stream_open) Invalid card 'card'\n",
      "ALSA lib confmisc.c:160:(snd_config_get_card) Invalid field card\n",
      "ALSA lib pcm_usb_stream.c:482:(_snd_pcm_usb_stream_open) Invalid card 'card'\n"
     ]
    }
   ],
   "source": [
    "import numpy as np\n",
    "import pyaudio\n",
    "import time\n",
    "from pyldpc import make_ldpc, encode, decode, get_message\n",
    "import matplotlib.pyplot as plt \n",
    "\n",
    "# Ses kayıt parametreleri\n",
    "CHUNK = 512* 1\n",
    "FORMAT = pyaudio.paInt16\n",
    "CHANNELS = 1\n",
    "RATE = 44100\n",
    "\n",
    "# Taşıyıcı frekansı\n",
    "tasiyici_frekans = 5000\n",
    "\n",
    "# LDPC kodlama parametreleri\n",
    "n = 32\n",
    "d_v = 8\n",
    "d_c = 16\n",
    "snr = 20\n",
    "H, G = make_ldpc(n, d_v, d_c, systematic=True, sparse=True)\n",
    "k = G.shape[1]\n",
    "# PyAudio nesnesi oluştur\n",
    "p = pyaudio.PyAudio()\n",
    "# Çıkış akışını aç\n",
    "stream = p.open(\n",
    "format=FORMAT,\n",
    "channels=CHANNELS,\n",
    "rate=RATE,\n",
    "output=True,\n",
    "frames_per_buffer=CHUNK\n",
    "    )\n",
    "def ses_gonder(bits):\n",
    "    # Veriyi genişlet (CHUNK uzunluğunda)\n",
    "    genisletilmis_veri = np.repeat(bits, CHUNK // len(bits))\n",
    "\n",
    "    # Taşıyıcı dalga oluşturma\n",
    "    t = np.arange(0, len(genisletilmis_veri)) / RATE\n",
    "    tasiyici_dalga = np.sin(2 * np.pi * tasiyici_frekans * t)\n",
    "\n",
    "    # Frekans modülasyonu\n",
    "    m = tasiyici_dalga * (genisletilmis_veri * 2 - 1)\n",
    "    modüle_edilmis_dalga = m * 32767  # Ses cihazına uygun aralığa getir\n",
    "\n",
    "    # Modüle edilmiş dalgayı ses cihazına gönderme\n",
    "    stream.write(modüle_edilmis_dalga.astype(np.int16).tobytes())\n",
    "\n",
    "def onluk_binarye_cevir(onluk_sayi):\n",
    "  \"\"\"Verilen onluk sayıyı 16 bitlik bir binary diziye çevirir.\n",
    "\n",
    "  Args:\n",
    "      onluk_sayi: Dönüştürülecek onluk sayı.\n",
    "\n",
    "  Returns:\n",
    "      16 bitlik binary dizi (liste).\n",
    "  \"\"\"\n",
    "  binary_dizi = [int(bit) for bit in bin(onluk_sayi)[2:].zfill(16)]\n",
    "  return binary_dizi\n",
    "\n",
    "\n",
    "# Kullanım örneği:\n",
    "v = np.array([1, 1, 1, 1, 1, 1, 1, 0, 0, 1, 1, 1, 1, 1, 1,1], dtype=np.int16)\n",
    "sayac=0\n",
    "for j in range(300):\n",
    "        v=onluk_binarye_cevir(j)\n",
    "        sayac+=1\n",
    "        ses_gonder(v)  # Veriyi ses olarak gönder      \n",
    "        time.sleep(0.002)\n",
    "# Akışı kapat\n",
    "stream.stop_stream()\n",
    "stream.close()\n",
    "p.terminate()"
   ]
  },
  {
   "cell_type": "code",
   "execution_count": 170,
   "id": "e36d7878-c8c4-4356-b963-88d04910cbcd",
   "metadata": {},
   "outputs": [
    {
     "data": {
      "text/plain": [
       "[0, 0, 0, 0, 1, 0, 0, 0]"
      ]
     },
     "execution_count": 170,
     "metadata": {},
     "output_type": "execute_result"
    }
   ],
   "source": [
    "onluk_binarye_cevir(8)"
   ]
  },
  {
   "cell_type": "markdown",
   "id": "1dc16674-81cb-41b3-b607-700ecac8484f",
   "metadata": {},
   "source": [
    "print(len(sound_bits))\n"
   ]
  },
  {
   "cell_type": "markdown",
   "id": "5b94f887-053c-4e40-acd4-f055ded9b335",
   "metadata": {},
   "source": [
    ">>> import numpy as np\n",
    ">>> from pyldpc import make_ldpc, encode, decode, get_message\n",
    ">>> n = 32\n",
    ">>> d_v = 4\n",
    ">>> d_c = 8\n",
    ">>> snr = 1000\n",
    ">>> H, G = make_ldpc(n, d_v, d_c, systematic=True, sparse=True)\n",
    ">>> k = G.shape[1]\n",
    ">>> v = np.random.randint(2, size=k)\n",
    ">>> y = encode(G, v, snr)\n",
    ">>> d = decode(H, y, snr)\n",
    ">>> x = get_message(G, d)\n",
    ">>> assert abs(x - v).sum() == 0"
   ]
  },
  {
   "cell_type": "markdown",
   "id": "2ef0437b-063b-4060-b4fd-50badc50feba",
   "metadata": {},
   "source": [
    "print(len(y))"
   ]
  },
  {
   "cell_type": "markdown",
   "id": "2084f751-a660-4d6a-9f39-1223e6171774",
   "metadata": {},
   "source": [
    "print(len(v))"
   ]
  },
  {
   "cell_type": "markdown",
   "id": "5d4539e4-23b0-4acc-a756-47e693c1da96",
   "metadata": {},
   "source": []
  },
  {
   "cell_type": "markdown",
   "id": "5bb733c9-6eb5-41b9-862e-ac02dfe18756",
   "metadata": {},
   "source": [
    "d = decode(H, y, 20)\n",
    "x = get_message(G, d)\n",
    "x\n"
   ]
  },
  {
   "cell_type": "markdown",
   "id": "d59ea15e-cb28-4645-8718-759539710b49",
   "metadata": {},
   "source": [
    "print(len(y))"
   ]
  },
  {
   "cell_type": "markdown",
   "id": "2757f3ae-0604-43ab-bc43-13ca8aca9111",
   "metadata": {},
   "source": [
    "y"
   ]
  },
  {
   "cell_type": "markdown",
   "id": "c1da6877-724e-454d-8174-a6495de03c23",
   "metadata": {},
   "source": []
  },
  {
   "cell_type": "markdown",
   "id": "04775cfb-d396-4149-a12e-49d1c72fd13a",
   "metadata": {},
   "source": [
    "aci = np.arcsin(0.5)  "
   ]
  },
  {
   "cell_type": "code",
   "execution_count": 19,
   "id": "bac3a39c-71e3-4627-a99d-1136c2e81320",
   "metadata": {},
   "outputs": [
    {
     "data": {
      "text/plain": [
       "array([    -0.        , -21417.70013415, -32418.20922816, ...,\n",
       "       -25324.60528974,  -5574.95445348,  16886.25575742])"
      ]
     },
     "execution_count": 19,
     "metadata": {},
     "output_type": "execute_result"
    }
   ],
   "source": [
    "modüle_edilmis_dalga"
   ]
  },
  {
   "cell_type": "code",
   "execution_count": 20,
   "id": "a5527609-2803-41b5-8e66-7539f0f1ecc0",
   "metadata": {},
   "outputs": [],
   "source": [
    "m2=modüle_edilmis_dalga/32767"
   ]
  },
  {
   "cell_type": "code",
   "execution_count": 21,
   "id": "8ee39f98-d619-4f53-b09f-74f0653ff533",
   "metadata": {},
   "outputs": [
    {
     "data": {
      "text/plain": [
       "array([-0.        , -0.65363628, -0.98935543, ..., -0.77286921,\n",
       "       -0.1701393 ,  0.51534336])"
      ]
     },
     "execution_count": 21,
     "metadata": {},
     "output_type": "execute_result"
    }
   ],
   "source": [
    "m2"
   ]
  },
  {
   "cell_type": "code",
   "execution_count": 22,
   "id": "55dbf0ac-17ba-4ce5-a2e7-88b44bf95369",
   "metadata": {},
   "outputs": [],
   "source": [
    "t = np.arange(0, 2048) / RATE\n",
    "tasiyici_dalga = np.sin(2 * np.pi * 5000 * t)\n",
    "tasiyici_dalga=np.where(tasiyici_dalga==0,1e-10,tasiyici_dalga)\n",
    "\n",
    "\n"
   ]
  },
  {
   "cell_type": "code",
   "execution_count": 26,
   "id": "2dd7564d-dc40-4f02-a671-1a22fa02b4a6",
   "metadata": {},
   "outputs": [],
   "source": [
    "genis_veri=(m2/tasiyici_dalga +1)/2\n",
    "genis_veri=np.where(genis_veri <=0,-1,genis_veri)\n"
   ]
  },
  {
   "cell_type": "code",
   "execution_count": 30,
   "id": "be23b5bc-4505-43fe-b4f2-58c961f06d4e",
   "metadata": {},
   "outputs": [
    {
     "data": {
      "text/plain": [
       "array([1, 1, 1, 1, 1, 0, 1, 0, 1, 0, 1, 0, 1, 0, 1, 0, 1, 0, 1])"
      ]
     },
     "execution_count": 30,
     "metadata": {},
     "output_type": "execute_result"
    }
   ],
   "source": [
    "a=al(genis_veri)\n",
    "\n",
    "a\n"
   ]
  },
  {
   "cell_type": "code",
   "execution_count": null,
   "id": "9bfe8af5-fafd-42a4-aba2-48da558bce57",
   "metadata": {},
   "outputs": [],
   "source": []
  },
  {
   "cell_type": "code",
   "execution_count": 32,
   "id": "e88dd092-03e5-49c3-adc1-f0e8556120e3",
   "metadata": {},
   "outputs": [],
   "source": [
    "def al(data):\n",
    "\tn = 32\n",
    "\td_v = 4\n",
    "\td_c = 8\n",
    "\tsnr = 20\n",
    "\tH, G = make_ldpc(n, d_v, d_c, systematic=True, sparse=True)\n",
    "\tgruplar = [data[i:i+64] for i in range(0, len(data), 64)]\n",
    "\tana_ort=np.abs(np.mean(data))\n",
    "\tortalamalar =[]\n",
    "\t\n",
    "\tfor grup in gruplar:\n",
    "\t\tortalama=np.mean(grup)\n",
    "\t\tif ortalama <=0:\n",
    "\t\t\tortalamalar.append(ortalama)\n",
    "\t\telse:\n",
    "\t\t\tortalamalar.append(ortalama)\n",
    "\tortalamalar=np.array(ortalamalar)\t\n",
    "\t#print(ortalamalar[0])\t\n",
    "\td = decode(H, ortalamalar, snr)\n",
    "\tx=get_message(G, d)\n",
    "\t\t\t\n",
    "\treturn x"
   ]
  },
  {
   "cell_type": "code",
   "execution_count": null,
   "id": "6cef2208-d07f-4460-aee6-55d59001ded7",
   "metadata": {},
   "outputs": [],
   "source": []
  },
  {
   "cell_type": "code",
   "execution_count": 58,
   "id": "2811d72e-4404-4074-bd28-27db0296e9f6",
   "metadata": {},
   "outputs": [],
   "source": [
    "\n",
    "bits = np.array([0, 0, 0, 0, 0, 0, 0, 0, 0, 0, 0, 0, 0, 1, 1,1], dtype=np.int16)\n",
    "tasiyici_frekans = 1000"
   ]
  },
  {
   "cell_type": "code",
   "execution_count": 55,
   "id": "71ed8143-0b43-4f51-908e-fcddb2b679b1",
   "metadata": {},
   "outputs": [],
   "source": [
    "\n",
    "# Veriyi genişlet (CHUNK uzunluğunda)\n",
    "genisletilmis_veri = np.repeat(bits, 512 // len(bits))\n",
    "\n",
    "# Taşıyıcı dalga oluşturma\n",
    "t = np.arange(0, len(genisletilmis_veri)) / RATE\n",
    "tasiyici_dalga = np.sin(2 * np.pi * tasiyici_frekans * t)\n",
    "\n",
    "# Frekans modülasyonu\n",
    "m = tasiyici_dalga * (genisletilmis_veri * 2 - 1)\n",
    "sinyal= m   # Ses cihazına uygun aralığa getir\n",
    "\n"
   ]
  },
  {
   "cell_type": "code",
   "execution_count": null,
   "id": "56d004c1-fb11-4594-8b62-20fd4cec8107",
   "metadata": {},
   "outputs": [],
   "source": []
  },
  {
   "cell_type": "code",
   "execution_count": 56,
   "id": "cb8d9bb9-943b-4a07-a0ca-f3c1206ceb8b",
   "metadata": {},
   "outputs": [],
   "source": [
    "x=np.arange(0,512)"
   ]
  },
  {
   "cell_type": "code",
   "execution_count": 57,
   "id": "98c18e82-9d31-4b0f-afd3-d95177ad7e67",
   "metadata": {},
   "outputs": [
    {
     "data": {
      "text/plain": [
       "[<matplotlib.lines.Line2D at 0x707c7408c680>]"
      ]
     },
     "execution_count": 57,
     "metadata": {},
     "output_type": "execute_result"
    },
    {
     "data": {
      "image/png": "[encoded data removed]",
      "text/plain": [
       "<Figure size 640x480 with 1 Axes>"
      ]
     },
     "metadata": {},
     "output_type": "display_data"
    }
   ],
   "source": [
    "plt.plot(t,sinyal)"
   ]
  },
  {
   "cell_type": "code",
   "execution_count": null,
   "id": "73a4fff3-0c85-464b-a54e-6c827ef0cc81",
   "metadata": {},
   "outputs": [],
   "source": []
  },
  {
   "cell_type": "code",
   "execution_count": null,
   "id": "b0f5cf38-7243-4008-9414-bbd38fde3659",
   "metadata": {},
   "outputs": [],
   "source": []
  },
  {
   "cell_type": "code",
   "execution_count": null,
   "id": "3bafb6ba-327a-4eb4-8e6a-a3de7aeb23bc",
   "metadata": {},
   "outputs": [],
   "source": []
  }
 ],
 "metadata": {
  "kernelspec": {
   "display_name": "Python 3 (ipykernel)",
   "language": "python",
   "name": "python3"
  },
  "language_info": {
   "codemirror_mode": {
    "name": "ipython",
    "version": 3
   },
   "file_extension": ".py",
   "mimetype": "text/x-python",
   "name": "python",
   "nbconvert_exporter": "python",
   "pygments_lexer": "ipython3",
   "version": "3.12.3"
  }
 },
 "nbformat": 4,
 "nbformat_minor": 5
}
