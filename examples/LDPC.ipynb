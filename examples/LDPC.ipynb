{
 "cells": [
  {
   "cell_type": "code",
   "execution_count": 2,
   "id": "27ca997d-6581-4d1f-aa7f-6277705c9c68",
   "metadata": {},
   "outputs": [
    {
     "name": "stderr",
     "output_type": "stream",
     "text": [
      "ALSA lib pcm_dmix.c:1032:(snd_pcm_dmix_open) unable to open slave\n",
      "ALSA lib pcm.c:2664:(snd_pcm_open_noupdate) Unknown PCM cards.pcm.rear\n",
      "ALSA lib pcm.c:2664:(snd_pcm_open_noupdate) Unknown PCM cards.pcm.center_lfe\n",
      "ALSA lib pcm.c:2664:(snd_pcm_open_noupdate) Unknown PCM cards.pcm.side\n",
      "ALSA lib pcm_route.c:877:(find_matching_chmap) Found no matching channel map\n",
      "ALSA lib pcm_oss.c:397:(_snd_pcm_oss_open) Cannot open device /dev/dsp\n",
      "ALSA lib pcm_oss.c:397:(_snd_pcm_oss_open) Cannot open device /dev/dsp\n",
      "ALSA lib confmisc.c:160:(snd_config_get_card) Invalid field card\n",
      "ALSA lib pcm_usb_stream.c:482:(_snd_pcm_usb_stream_open) Invalid card 'card'\n",
      "ALSA lib confmisc.c:160:(snd_config_get_card) Invalid field card\n",
      "ALSA lib pcm_usb_stream.c:482:(_snd_pcm_usb_stream_open) Invalid card 'card'\n",
      "ALSA lib pcm_dmix.c:1032:(snd_pcm_dmix_open) unable to open slave\n"
     ]
    }
   ],
   "source": [
    "import numpy as np\n",
    "import pyaudio\n",
    "import time\n",
    "from pyldpc import make_ldpc, encode, decode, get_message\n",
    "\n",
    "# Ses kayıt parametreleri\n",
    "CHUNK = 512* 1\n",
    "FORMAT = pyaudio.paInt16\n",
    "CHANNELS = 1\n",
    "RATE = 44100\n",
    "\n",
    "# Taşıyıcı frekansı\n",
    "tasiyici_frekans = 5000\n",
    "\n",
    "# LDPC kodlama parametreleri\n",
    "n = 32\n",
    "d_v = 8\n",
    "d_c = 16\n",
    "snr = 20\n",
    "H, G = make_ldpc(n, d_v, d_c, systematic=True, sparse=True)\n",
    "k = G.shape[1]\n",
    "# PyAudio nesnesi oluştur\n",
    "p = pyaudio.PyAudio()\n",
    "# Çıkış akışını aç\n",
    "stream = p.open(\n",
    "format=FORMAT,\n",
    "channels=CHANNELS,\n",
    "rate=RATE,\n",
    "output=True,\n",
    "frames_per_buffer=CHUNK\n",
    "    )\n",
    "def ses_gonder(bits):\n",
    "    # Veriyi genişlet (CHUNK uzunluğunda)\n",
    "    genisletilmis_veri = np.repeat(bits, CHUNK // len(bits))\n",
    "\n",
    "    # Taşıyıcı dalga oluşturma\n",
    "    t = np.arange(0, len(genisletilmis_veri)) / RATE\n",
    "    tasiyici_dalga = np.sin(2 * np.pi * tasiyici_frekans * t)\n",
    "\n",
    "    # Frekans modülasyonu\n",
    "    m = tasiyici_dalga * (genisletilmis_veri * 2 - 1)\n",
    "    modüle_edilmis_dalga = m * 32767  # Ses cihazına uygun aralığa getir\n",
    "\n",
    "    # Modüle edilmiş dalgayı ses cihazına gönderme\n",
    "    stream.write(modüle_edilmis_dalga.astype(np.int16).tobytes())\n",
    "\n",
    "def onluk_binarye_cevir(onluk_sayi):\n",
    "  \"\"\"Verilen onluk sayıyı 16 bitlik bir binary diziye çevirir.\n",
    "\n",
    "  Args:\n",
    "      onluk_sayi: Dönüştürülecek onluk sayı.\n",
    "\n",
    "  Returns:\n",
    "      16 bitlik binary dizi (liste).\n",
    "  \"\"\"\n",
    "  binary_dizi = [int(bit) for bit in bin(onluk_sayi)[2:].zfill(16)]\n",
    "  return binary_dizi\n",
    "\n",
    "\n",
    "# Kullanım örneği:\n",
    "v = np.array([1, 1, 1, 1, 1, 1, 1, 0, 0, 1, 1, 1, 1, 1, 1,1], dtype=np.int16)\n",
    "sayac=0\n",
    "for j in range(300):\n",
    "        v=onluk_binarye_cevir(j)\n",
    "        sayac+=1\n",
    "        ses_gonder(v)  # Veriyi ses olarak gönder      \n",
    "        time.sleep(0.002)\n",
    "# Akışı kapat\n",
    "stream.stop_stream()\n",
    "stream.close()\n",
    "p.terminate()"
   ]
  },
  {
   "cell_type": "code",
   "execution_count": 170,
   "id": "e36d7878-c8c4-4356-b963-88d04910cbcd",
   "metadata": {},
   "outputs": [
    {
     "data": {
      "text/plain": [
       "[0, 0, 0, 0, 1, 0, 0, 0]"
      ]
     },
     "execution_count": 170,
     "metadata": {},
     "output_type": "execute_result"
    }
   ],
   "source": [
    "onluk_binarye_cevir(8)"
   ]
  },
  {
   "cell_type": "markdown",
   "id": "1dc16674-81cb-41b3-b607-700ecac8484f",
   "metadata": {},
   "source": [
    "print(len(sound_bits))\n"
   ]
  },
  {
   "cell_type": "markdown",
   "id": "5b94f887-053c-4e40-acd4-f055ded9b335",
   "metadata": {},
   "source": [
    ">>> import numpy as np\n",
    ">>> from pyldpc import make_ldpc, encode, decode, get_message\n",
    ">>> n = 32\n",
    ">>> d_v = 4\n",
    ">>> d_c = 8\n",
    ">>> snr = 1000\n",
    ">>> H, G = make_ldpc(n, d_v, d_c, systematic=True, sparse=True)\n",
    ">>> k = G.shape[1]\n",
    ">>> v = np.random.randint(2, size=k)\n",
    ">>> y = encode(G, v, snr)\n",
    ">>> d = decode(H, y, snr)\n",
    ">>> x = get_message(G, d)\n",
    ">>> assert abs(x - v).sum() == 0"
   ]
  },
  {
   "cell_type": "markdown",
   "id": "2ef0437b-063b-4060-b4fd-50badc50feba",
   "metadata": {},
   "source": [
    "print(len(y))"
   ]
  },
  {
   "cell_type": "markdown",
   "id": "2084f751-a660-4d6a-9f39-1223e6171774",
   "metadata": {},
   "source": [
    "print(len(v))"
   ]
  },
  {
   "cell_type": "markdown",
   "id": "5d4539e4-23b0-4acc-a756-47e693c1da96",
   "metadata": {},
   "source": []
  },
  {
   "cell_type": "markdown",
   "id": "5bb733c9-6eb5-41b9-862e-ac02dfe18756",
   "metadata": {},
   "source": [
    "d = decode(H, y, 20)\n",
    "x = get_message(G, d)\n",
    "x\n"
   ]
  },
  {
   "cell_type": "markdown",
   "id": "d59ea15e-cb28-4645-8718-759539710b49",
   "metadata": {},
   "source": [
    "print(len(y))"
   ]
  },
  {
   "cell_type": "markdown",
   "id": "2757f3ae-0604-43ab-bc43-13ca8aca9111",
   "metadata": {},
   "source": [
    "y"
   ]
  },
  {
   "cell_type": "markdown",
   "id": "c1da6877-724e-454d-8174-a6495de03c23",
   "metadata": {},
   "source": []
  },
  {
   "cell_type": "markdown",
   "id": "04775cfb-d396-4149-a12e-49d1c72fd13a",
   "metadata": {},
   "source": [
    "aci = np.arcsin(0.5)  "
   ]
  },
  {
   "cell_type": "code",
   "execution_count": 19,
   "id": "bac3a39c-71e3-4627-a99d-1136c2e81320",
   "metadata": {},
   "outputs": [
    {
     "data": {
      "text/plain": [
       "array([    -0.        , -21417.70013415, -32418.20922816, ...,\n",
       "       -25324.60528974,  -5574.95445348,  16886.25575742])"
      ]
     },
     "execution_count": 19,
     "metadata": {},
     "output_type": "execute_result"
    }
   ],
   "source": [
    "modüle_edilmis_dalga"
   ]
  },
  {
   "cell_type": "code",
   "execution_count": 20,
   "id": "a5527609-2803-41b5-8e66-7539f0f1ecc0",
   "metadata": {},
   "outputs": [],
   "source": [
    "m2=modüle_edilmis_dalga/32767"
   ]
  },
  {
   "cell_type": "code",
   "execution_count": 21,
   "id": "8ee39f98-d619-4f53-b09f-74f0653ff533",
   "metadata": {},
   "outputs": [
    {
     "data": {
      "text/plain": [
       "array([-0.        , -0.65363628, -0.98935543, ..., -0.77286921,\n",
       "       -0.1701393 ,  0.51534336])"
      ]
     },
     "execution_count": 21,
     "metadata": {},
     "output_type": "execute_result"
    }
   ],
   "source": [
    "m2"
   ]
  },
  {
   "cell_type": "code",
   "execution_count": 22,
   "id": "55dbf0ac-17ba-4ce5-a2e7-88b44bf95369",
   "metadata": {},
   "outputs": [],
   "source": [
    "t = np.arange(0, 2048) / RATE\n",
    "tasiyici_dalga = np.sin(2 * np.pi * 5000 * t)\n",
    "tasiyici_dalga=np.where(tasiyici_dalga==0,1e-10,tasiyici_dalga)\n",
    "\n",
    "\n"
   ]
  },
  {
   "cell_type": "code",
   "execution_count": 26,
   "id": "2dd7564d-dc40-4f02-a671-1a22fa02b4a6",
   "metadata": {},
   "outputs": [],
   "source": [
    "genis_veri=(m2/tasiyici_dalga +1)/2\n",
    "genis_veri=np.where(genis_veri <=0,-1,genis_veri)\n"
   ]
  },
  {
   "cell_type": "code",
   "execution_count": 30,
   "id": "be23b5bc-4505-43fe-b4f2-58c961f06d4e",
   "metadata": {},
   "outputs": [
    {
     "data": {
      "text/plain": [
       "array([1, 1, 1, 1, 1, 0, 1, 0, 1, 0, 1, 0, 1, 0, 1, 0, 1, 0, 1])"
      ]
     },
     "execution_count": 30,
     "metadata": {},
     "output_type": "execute_result"
    }
   ],
   "source": [
    "a=al(genis_veri)\n",
    "\n",
    "a\n"
   ]
  },
  {
   "cell_type": "code",
   "execution_count": null,
   "id": "9bfe8af5-fafd-42a4-aba2-48da558bce57",
   "metadata": {},
   "outputs": [],
   "source": []
  },
  {
   "cell_type": "code",
   "execution_count": 32,
   "id": "e88dd092-03e5-49c3-adc1-f0e8556120e3",
   "metadata": {},
   "outputs": [],
   "source": [
    "def al(data):\n",
    "\tn = 32\n",
    "\td_v = 4\n",
    "\td_c = 8\n",
    "\tsnr = 20\n",
    "\tH, G = make_ldpc(n, d_v, d_c, systematic=True, sparse=True)\n",
    "\tgruplar = [data[i:i+64] for i in range(0, len(data), 64)]\n",
    "\tana_ort=np.abs(np.mean(data))\n",
    "\tortalamalar =[]\n",
    "\t\n",
    "\tfor grup in gruplar:\n",
    "\t\tortalama=np.mean(grup)\n",
    "\t\tif ortalama <=0:\n",
    "\t\t\tortalamalar.append(ortalama)\n",
    "\t\telse:\n",
    "\t\t\tortalamalar.append(ortalama)\n",
    "\tortalamalar=np.array(ortalamalar)\t\n",
    "\t#print(ortalamalar[0])\t\n",
    "\td = decode(H, ortalamalar, snr)\n",
    "\tx=get_message(G, d)\n",
    "\t\t\t\n",
    "\treturn x"
   ]
  },
  {
   "cell_type": "code",
   "execution_count": null,
   "id": "6cef2208-d07f-4460-aee6-55d59001ded7",
   "metadata": {},
   "outputs": [],
   "source": []
  },
  {
   "cell_type": "code",
   "execution_count": 6,
   "id": "2811d72e-4404-4074-bd28-27db0296e9f6",
   "metadata": {},
   "outputs": [],
   "source": [
    "\n",
    "bits = np.array([0, 0, 0, 0, 0, 0, 0, 0, 0, 0, 0, 0, 0, 0, 0,1], dtype=np.int16)"
   ]
  },
  {
   "cell_type": "code",
   "execution_count": 9,
   "id": "71ed8143-0b43-4f51-908e-fcddb2b679b1",
   "metadata": {},
   "outputs": [],
   "source": [
    "\n",
    "# Veriyi genişlet (CHUNK uzunluğunda)\n",
    "genisletilmis_veri = np.repeat(bits, CHUNK // len(bits))\n",
    "\n",
    "# Taşıyıcı dalga oluşturma\n",
    "t = np.arange(0, len(genisletilmis_veri)) / RATE\n",
    "tasiyici_dalga = np.sin(2 * np.pi * tasiyici_frekans * t)\n",
    "\n",
    "# Frekans modülasyonu\n",
    "m = tasiyici_dalga * (genisletilmis_veri * 2 - 1)\n",
    "modüle_edilmis_dalga = m   # Ses cihazına uygun aralığa getir\n",
    "\n"
   ]
  },
  {
   "cell_type": "code",
   "execution_count": 10,
   "id": "56d004c1-fb11-4594-8b62-20fd4cec8107",
   "metadata": {},
   "outputs": [
    {
     "data": {
      "text/plain": [
       "array([-0.00000000e+00, -6.53636284e-01, -9.89355426e-01, -8.43869563e-01,\n",
       "       -2.87940450e-01,  4.08037812e-01,  9.05553689e-01,  9.62624247e-01,\n",
       "        5.51491374e-01, -1.27877162e-01, -7.45048505e-01, -9.99841415e-01,\n",
       "       -7.68329122e-01, -1.63115114e-01,  5.21435203e-01,  9.52368648e-01,\n",
       "        9.20086805e-01,  4.40290991e-01, -2.53654584e-01, -8.24227050e-01,\n",
       "       -9.93910037e-01, -6.80172738e-01, -3.56114331e-02,  6.26270644e-01,\n",
       "        9.83545741e-01,  8.62441563e-01,  3.21861042e-01, -3.75267005e-01,\n",
       "       -8.89871809e-01, -9.71658683e-01, -5.80847936e-01,  9.24769870e-02,\n",
       "        7.20822737e-01,  9.98573040e-01,  7.90635054e-01,  1.98146143e-01,\n",
       "       -4.90717552e-01, -9.40904898e-01, -9.33452720e-01, -4.71985628e-01,\n",
       "        2.19046937e-01,  8.03538941e-01,  9.97203797e-01,  7.05846340e-01,\n",
       "        7.11776904e-02, -5.98110530e-01, -9.76488354e-01, -8.79919490e-01,\n",
       "       -3.55373328e-01,  3.42020143e-01,  8.73061058e-01,  9.79460496e-01,\n",
       "        6.09467648e-01, -5.69594981e-02, -6.95682551e-01, -9.96037898e-01,\n",
       "       -8.11938006e-01, -2.32925808e-01,  4.59377388e-01,  9.28247537e-01,\n",
       "        9.45634480e-01,  5.03081515e-01, -1.84161413e-01, -7.81831482e-01,\n",
       "       -9.99232528e-01, -7.30624522e-01, -1.06653653e-01,  5.69191668e-01,\n",
       "        9.68192216e-01,  8.96281172e-01,  3.88434796e-01, -3.08339403e-01,\n",
       "       -8.55142763e-01, -9.86019788e-01, -6.37314204e-01,  2.13697518e-02,\n",
       "        6.69659838e-01,  9.92239207e-01,  8.32210952e-01,  2.67409989e-01,\n",
       "       -4.27454468e-01, -9.14412623e-01, -9.56616629e-01, -5.33539204e-01,\n",
       "        1.49042266e-01,  7.59132211e-01,  9.99993656e-01,  7.54475851e-01,\n",
       "        1.41994318e-01, -5.39550743e-01, -9.58667853e-01, -9.11505852e-01,\n",
       "       -4.21003505e-01,  2.74267511e-01,  8.36139654e-01,  9.91328238e-01,\n",
       "        6.64352278e-01,  1.42471037e-02, -6.42787610e-01, -9.87181783e-01,\n",
       "       -8.51428174e-01, -3.01554940e-01,  3.94989290e-01,  8.99417707e-01,\n",
       "        9.66385238e-01,  5.63320058e-01, -1.13734048e-01, -7.35469921e-01,\n",
       "       -9.99486216e-01, -7.77370070e-01, -1.77154852e-01,  5.09225357e-01,\n",
       "        9.47927346e-01,  9.25574218e-01,  4.53038139e-01, -2.39847689e-01,\n",
       "       -8.16075837e-01, -9.95379113e-01, -6.90547570e-01, -4.98458857e-02,\n",
       "        6.15099957e-01,  9.80872045e-01,  8.69565295e-01,  3.35317346e-01,\n",
       "       -3.62023038e-01, -8.83281811e-01, -9.74927912e-01, -5.92386298e-01,\n",
       "        7.82815487e-02,  7.10874632e-01,  9.97710851e-01,  7.99278135e-01,\n",
       "        2.12090651e-01, -4.78253979e-01, -9.35984321e-01, -9.38468422e-01,\n",
       "       -4.84498059e-01,  2.05123602e-01,  7.94976766e-01,  9.98167273e-01,\n",
       "        7.15866849e-01,  8.53814343e-02, -5.86632002e-01, -9.73317995e-01,\n",
       "       -8.86599306e-01, -3.68654376e-01,  3.28597532e-01,  8.66025404e-01,\n",
       "        9.82233816e-01,  6.20701050e-01, -4.27297436e-02, -6.85377545e-01,\n",
       "       -9.94669814e-01, -8.20172255e-01, -2.46757398e-01,  4.46675899e-01,\n",
       "        9.22853928e-01,  9.50172107e-01,  5.15343356e-01, -1.70139300e-01,\n",
       "       -7.72869207e-01, -9.99689182e-01, -7.40277997e-01, -1.20808670e-01,\n",
       "        5.57419860e-01,  9.64529216e-01,  9.02508598e-01,  4.01523739e-01,\n",
       "       -2.94755174e-01, -8.47670377e-01, -9.88293682e-01, -6.48228395e-01,\n",
       "        7.12373261e-03,  6.59011003e-01,  9.90366961e-01,  8.40025923e-01,\n",
       "        2.81111113e-01, -4.14531177e-01, -9.08552824e-01, -9.60670426e-01,\n",
       "       -5.45534901e-01,  1.34939164e-01,  7.49781203e-01,  9.99942909e-01,\n",
       "        7.63750046e-01,  1.56082651e-01, -5.27500589e-01, -9.54516859e-01,\n",
       "       -9.17272989e-01, -4.33883739e-01,  2.60538898e-01,  8.28240016e-01,\n",
       "        9.93099821e-01,  6.74933413e-01,  2.84913154e-02, -6.31808455e-01,\n",
       "       -9.84807753e-01, -8.58813955e-01, -3.15108218e-01,  3.81860590e-01,\n",
       "        8.93099152e-01,  9.69950061e-01,  5.75034393e-01, -9.95678466e-02,\n",
       "       -7.25742045e-01, -9.98928131e-01, -7.86253219e-01, -1.91158629e-01,\n",
       "        4.96912142e-01,  9.43293624e-01,  9.30873749e-01,  4.65693324e-01,\n",
       "       -2.25992107e-01, -8.07758970e-01, -9.96646137e-01, -7.00782227e-01,\n",
       "       -6.40702200e-02,  6.03804410e-01,  9.77999241e-01,  8.76512515e-01,\n",
       "        3.48705584e-01, -3.48705584e-01, -8.76512515e-01, -9.77999241e-01,\n",
       "       -6.03804410e-01,  6.40702200e-02,  7.00782227e-01,  9.96646137e-01,\n",
       "        8.07758970e-01,  2.25992107e-01, -4.65693324e-01, -9.30873749e-01,\n",
       "       -9.43293624e-01, -4.96912142e-01,  1.91158629e-01,  7.86253219e-01,\n",
       "        9.98928131e-01,  7.25742045e-01,  9.95678466e-02, -5.75034393e-01,\n",
       "       -9.69950061e-01, -8.93099152e-01, -3.81860590e-01,  3.15108218e-01,\n",
       "        8.58813955e-01,  9.84807753e-01,  6.31808455e-01, -2.84913154e-02,\n",
       "       -6.74933413e-01, -9.93099821e-01, -8.28240016e-01, -2.60538898e-01,\n",
       "        4.33883739e-01,  9.17272989e-01,  9.54516859e-01,  5.27500589e-01,\n",
       "       -1.56082651e-01, -7.63750046e-01, -9.99942909e-01, -7.49781203e-01,\n",
       "       -1.34939164e-01,  5.45534901e-01,  9.60670426e-01,  9.08552824e-01,\n",
       "        4.14531177e-01, -2.81111113e-01, -8.40025923e-01, -9.90366961e-01,\n",
       "       -6.59011003e-01, -7.12373261e-03,  6.48228395e-01,  9.88293682e-01,\n",
       "        8.47670377e-01,  2.94755174e-01, -4.01523739e-01, -9.02508598e-01,\n",
       "       -9.64529216e-01, -5.57419860e-01,  1.20808670e-01,  7.40277997e-01,\n",
       "        9.99689182e-01,  7.72869207e-01,  1.70139300e-01, -5.15343356e-01,\n",
       "       -9.50172107e-01, -9.22853928e-01, -4.46675899e-01,  2.46757398e-01,\n",
       "        8.20172255e-01,  9.94669814e-01,  6.85377545e-01,  4.27297436e-02,\n",
       "       -6.20701050e-01, -9.82233816e-01, -8.66025404e-01, -3.28597532e-01,\n",
       "        3.68654376e-01,  8.86599306e-01,  9.73317995e-01,  5.86632002e-01,\n",
       "       -8.53814343e-02, -7.15866849e-01, -9.98167273e-01, -7.94976766e-01,\n",
       "       -2.05123602e-01,  4.84498059e-01,  9.38468422e-01,  9.35984321e-01,\n",
       "        4.78253979e-01, -2.12090651e-01, -7.99278135e-01, -9.97710851e-01,\n",
       "       -7.10874632e-01, -7.82815487e-02,  5.92386298e-01,  9.74927912e-01,\n",
       "        8.83281811e-01,  3.62023038e-01, -3.35317346e-01, -8.69565295e-01,\n",
       "       -9.80872045e-01, -6.15099957e-01,  4.98458857e-02,  6.90547570e-01,\n",
       "        9.95379113e-01,  8.16075837e-01,  2.39847689e-01, -4.53038139e-01,\n",
       "       -9.25574218e-01, -9.47927346e-01, -5.09225357e-01,  1.77154852e-01,\n",
       "        7.77370070e-01,  9.99486216e-01,  7.35469921e-01,  1.13734048e-01,\n",
       "       -5.63320058e-01, -9.66385238e-01, -8.99417707e-01, -3.94989290e-01,\n",
       "        3.01554940e-01,  8.51428174e-01,  9.87181783e-01,  6.42787610e-01,\n",
       "       -1.42471037e-02, -6.64352278e-01, -9.91328238e-01, -8.36139654e-01,\n",
       "       -2.74267511e-01,  4.21003505e-01,  9.11505852e-01,  9.58667853e-01,\n",
       "        5.39550743e-01, -1.41994318e-01, -7.54475851e-01, -9.99993656e-01,\n",
       "       -7.59132211e-01, -1.49042266e-01,  5.33539204e-01,  9.56616629e-01,\n",
       "        9.14412623e-01,  4.27454468e-01, -2.67409989e-01, -8.32210952e-01,\n",
       "       -9.92239207e-01, -6.69659838e-01, -2.13697518e-02,  6.37314204e-01,\n",
       "        9.86019788e-01,  8.55142763e-01,  3.08339403e-01, -3.88434796e-01,\n",
       "       -8.96281172e-01, -9.68192216e-01, -5.69191668e-01,  1.06653653e-01,\n",
       "        7.30624522e-01,  9.99232528e-01,  7.81831482e-01,  1.84161413e-01,\n",
       "       -5.03081515e-01, -9.45634480e-01, -9.28247537e-01, -4.59377388e-01,\n",
       "        2.32925808e-01,  8.11938006e-01,  9.96037898e-01,  6.95682551e-01,\n",
       "        5.69594981e-02, -6.09467648e-01, -9.79460496e-01, -8.73061058e-01,\n",
       "       -3.42020143e-01,  3.55373328e-01,  8.79919490e-01,  9.76488354e-01,\n",
       "        5.98110530e-01, -7.11776904e-02, -7.05846340e-01, -9.97203797e-01,\n",
       "       -8.03538941e-01, -2.19046937e-01,  4.71985628e-01,  9.33452720e-01,\n",
       "        9.40904898e-01,  4.90717552e-01, -1.98146143e-01, -7.90635054e-01,\n",
       "       -9.98573040e-01, -7.20822737e-01, -9.24769870e-02,  5.80847936e-01,\n",
       "        9.71658683e-01,  8.89871809e-01,  3.75267005e-01, -3.21861042e-01,\n",
       "       -8.62441563e-01, -9.83545741e-01, -6.26270644e-01,  3.56114331e-02,\n",
       "        6.80172738e-01,  9.93910037e-01,  8.24227050e-01,  2.53654584e-01,\n",
       "       -4.40290991e-01, -9.20086805e-01, -9.52368648e-01, -5.21435203e-01,\n",
       "        1.63115114e-01,  7.68329122e-01,  9.99841415e-01,  7.45048505e-01,\n",
       "        1.27877162e-01, -5.51491374e-01, -9.62624247e-01, -9.05553689e-01,\n",
       "       -4.08037812e-01,  2.87940450e-01,  8.43869563e-01,  9.89355426e-01,\n",
       "        6.53636284e-01, -1.96438672e-15, -6.53636284e-01, -9.89355426e-01,\n",
       "       -8.43869563e-01, -2.87940450e-01,  4.08037812e-01,  9.05553689e-01,\n",
       "        9.62624247e-01,  5.51491374e-01, -1.27877162e-01, -7.45048505e-01,\n",
       "       -9.99841415e-01, -7.68329122e-01, -1.63115114e-01,  5.21435203e-01,\n",
       "        9.52368648e-01,  9.20086805e-01,  4.40290991e-01, -2.53654584e-01,\n",
       "       -8.24227050e-01, -9.93910037e-01, -6.80172738e-01, -3.56114331e-02,\n",
       "        6.26270644e-01,  9.83545741e-01,  8.62441563e-01,  3.21861042e-01,\n",
       "       -3.75267005e-01, -8.89871809e-01, -9.71658683e-01, -5.80847936e-01,\n",
       "        9.24769870e-02,  7.20822737e-01,  9.98573040e-01,  7.90635054e-01,\n",
       "        1.98146143e-01, -4.90717552e-01, -9.40904898e-01, -9.33452720e-01,\n",
       "        4.71985628e-01, -2.19046937e-01, -8.03538941e-01, -9.97203797e-01,\n",
       "       -7.05846340e-01, -7.11776904e-02,  5.98110530e-01,  9.76488354e-01,\n",
       "        8.79919490e-01,  3.55373328e-01, -3.42020143e-01, -8.73061058e-01,\n",
       "       -9.79460496e-01, -6.09467648e-01,  5.69594981e-02,  6.95682551e-01,\n",
       "        9.96037898e-01,  8.11938006e-01,  2.32925808e-01, -4.59377388e-01,\n",
       "       -9.28247537e-01, -9.45634480e-01, -5.03081515e-01,  1.84161413e-01,\n",
       "        7.81831482e-01,  9.99232528e-01,  7.30624522e-01,  1.06653653e-01,\n",
       "       -5.69191668e-01, -9.68192216e-01, -8.96281172e-01, -3.88434796e-01])"
      ]
     },
     "execution_count": 10,
     "metadata": {},
     "output_type": "execute_result"
    }
   ],
   "source": [
    "modüle_edilmis_dalga"
   ]
  },
  {
   "cell_type": "code",
   "execution_count": null,
   "id": "cb8d9bb9-943b-4a07-a0ca-f3c1206ceb8b",
   "metadata": {},
   "outputs": [],
   "source": []
  },
  {
   "cell_type": "code",
   "execution_count": null,
   "id": "73a4fff3-0c85-464b-a54e-6c827ef0cc81",
   "metadata": {},
   "outputs": [],
   "source": []
  },
  {
   "cell_type": "code",
   "execution_count": null,
   "id": "b0f5cf38-7243-4008-9414-bbd38fde3659",
   "metadata": {},
   "outputs": [],
   "source": []
  },
  {
   "cell_type": "code",
   "execution_count": null,
   "id": "3bafb6ba-327a-4eb4-8e6a-a3de7aeb23bc",
   "metadata": {},
   "outputs": [],
   "source": []
  }
 ],
 "metadata": {
  "kernelspec": {
   "display_name": "Python 3 (ipykernel)",
   "language": "python",
   "name": "python3"
  },
  "language_info": {
   "codemirror_mode": {
    "name": "ipython",
    "version": 3
   },
   "file_extension": ".py",
   "mimetype": "text/x-python",
   "name": "python",
   "nbconvert_exporter": "python",
   "pygments_lexer": "ipython3",
   "version": "3.12.3"
  }
 },
 "nbformat": 4,
 "nbformat_minor": 5
}
