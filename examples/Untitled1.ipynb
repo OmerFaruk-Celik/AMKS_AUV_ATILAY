{
 "cells": [
  {
   "cell_type": "code",
   "execution_count": null,
   "id": "599a7222-ecd0-4261-bed8-59046b83a0a9",
   "metadata": {},
   "outputs": [],
   "source": [
    "# Band-pass filtre uygulama\n",
    "filtered_data = bandpass_filter(data_int, lowcut, highcut, RATE, order=6)*5\n",
    "\n",
    "# Frekans spektrumunu hesapla\n",
    "frekans = np.fft.rfftfreq(len(data_int), 1/RATE)\n",
    "spektrum = np.fft.rfft(data_int)\n",
    "frekans_peak = frekans[np.argmax(np.abs(spektrum))]\n",
    "m2=filtered_data\n",
    "#print(\"eleman :\",m2[0])\n",
    "d=np.array(m2)\n",
    "#print(\"m2 :\",np.sum(d<=0))\n",
    "genis_veri=(m2/tasiyici_dalga +1)/2\n",
    "#print(\"genis_veri :\",np.sum(genis_veri<=0))\n",
    "genis_veri=np.where(genis_veri <=0,-1,1)\n",
    "\n",
    "\n",
    "\n",
    "# Veriyi güncelle\n",
    "line.set_ydata(filtered_data)\n",
    "if frekans_peak >lowcut  and frekans_peak<highcut:\n",
    "    #print(genis_veri[:19])\n",
    "    print(al(genis_veri))\n",
    "\n",
    "# Frekans değerini güncelle\n",
    "text.set_text(f'Frekans: {frekans_peak:.2f} Hz')\n",
    "text2.set_text(f'Sure: {gecen_sure:.4f} ms')\n",
    "\n",
    "# Bitleri çözümle ve mesajı yazdır\n",
    "demodulated_signal = hilbert(filtered_data).real\n",
    "mesaj = bitleri_cozumle(demodulated_signal)\n",
    "if mesaj is not None:\n",
    "    message_text.set_text(f'Mesaj: {mesaj}')\n",
    "else:\n",
    "    message_text.set_text('Mesaj: None')\n",
    "\n",
    "return line, text, message_text"
   ]
  }
 ],
 "metadata": {
  "kernelspec": {
   "display_name": "Python 3 (ipykernel)",
   "language": "python",
   "name": "python3"
  },
  "language_info": {
   "codemirror_mode": {
    "name": "ipython",
    "version": 3
   },
   "file_extension": ".py",
   "mimetype": "text/x-python",
   "name": "python",
   "nbconvert_exporter": "python",
   "pygments_lexer": "ipython3",
   "version": "3.12.3"
  }
 },
 "nbformat": 4,
 "nbformat_minor": 5
}
