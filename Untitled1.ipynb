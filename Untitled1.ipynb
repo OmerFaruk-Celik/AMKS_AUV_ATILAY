{
 "cells": [
  {
   "cell_type": "code",
   "execution_count": null,
   "id": "c6151afd-dab9-4c1c-836a-470ca980d618",
   "metadata": {},
   "outputs": [],
   "source": []
  }
 ],
 "metadata": {
  "kernelspec": {
   "display_name": "",
   "name": ""
  },
  "language_info": {
   "name": ""
  }
 },
 "nbformat": 4,
 "nbformat_minor": 5
}
