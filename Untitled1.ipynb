{
 "cells": [
  {
   "cell_type": "code",
   "execution_count": null,
   "id": "08c45084-41ee-4e7c-ba3c-9801ade39e8c",
   "metadata": {},
   "outputs": [],
   "source": []
  }
 ],
 "metadata": {
  "kernelspec": {
   "display_name": "",
   "name": ""
  },
  "language_info": {
   "name": ""
  }
 },
 "nbformat": 4,
 "nbformat_minor": 5
}
