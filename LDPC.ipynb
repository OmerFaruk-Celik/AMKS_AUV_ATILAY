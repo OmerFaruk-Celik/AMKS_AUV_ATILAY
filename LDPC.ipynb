{
 "cells": [
  {
   "cell_type": "code",
   "execution_count": 219,
   "id": "27ca997d-6581-4d1f-aa7f-6277705c9c68",
   "metadata": {},
   "outputs": [],
   "source": [
    "import numpy as np\n",
    "import pyaudio\n",
    "import time\n",
    "from pyldpc import make_ldpc, encode, decode, get_message\n",
    "\n",
    "# Ses kayıt parametreleri\n",
    "CHUNK = 1024*2\n",
    "FORMAT = pyaudio.paInt16\n",
    "CHANNELS = 1\n",
    "RATE = 44100\n",
    "\n",
    "# Taşıyıcı frekansı\n",
    "tasiyici_frekans = 1000\n",
    "\n",
    "\n",
    "\n",
    "\n",
    "n = 32\n",
    "d_v = 4\n",
    "d_c = 8\n",
    "snr = 10\n",
    "H, G = make_ldpc(n, d_v, d_c, systematic=True, sparse=True)\n",
    "k = G.shape[1]\n",
    "#>>> v = np.random.randint(2, size=k)\n",
    "\n",
    "# PyAudio nesnesi oluştur\n",
    "p = pyaudio.PyAudio()\n",
    "\n",
    "# Çıkış akışını aç\n",
    "stream = p.open(\n",
    "    format=FORMAT,\n",
    "    channels=CHANNELS,\n",
    "    rate=RATE,\n",
    "    output=True,\n",
    "    frames_per_buffer=CHUNK\n",
    ")\n",
    "\n",
    "# Gönderilecek veri (binary)\n",
    "v = np.array([1, 1, 1, 1, 1, 1, 1, 1, 1, 1, 1, 1, 1, 1, 1, 1, 1, 1, 1], dtype=np.int16)\n",
    "y = encode(G, v, snr)\n",
    "genisletilmis_veri = np.repeat(y, CHUNK // len(y))\n",
    "#print(genisletilmis_veri[:16])\n",
    "\n",
    "# Taşıyıcı dalga oluşturma\n",
    "t = np.arange(0, len(genisletilmis_veri)) / RATE\n",
    "tasiyici_dalga = np.sin(2 * np.pi * tasiyici_frekans * t)\n",
    "m=tasiyici_dalga * (genisletilmis_veri * 2 - 1) \n",
    "# Frekans modülasyonu\n",
    "modüle_edilmis_dalga = m*32767 #np.where(m>0,m * 32767,m*-32767)\n",
    "\n",
    "# Modüle edilmiş dalgayı ses cihazına gönderme\n",
    "for i in range(50):\n",
    "\tstream.write(modüle_edilmis_dalga.astype(np.int16).tobytes())\n",
    "\ttime.sleep(0.0015)\n",
    "# Akışı kapat\n",
    "stream.stop_stream()\n",
    "stream.close()\n",
    "p.terminate()\n"
   ]
  },
  {
   "cell_type": "code",
   "execution_count": null,
   "id": "57d42401-c65f-4d62-9be9-e7fe4d56fea8",
   "metadata": {},
   "outputs": [],
   "source": [
    "\n"
   ]
  },
  {
   "cell_type": "code",
   "execution_count": 198,
   "id": "c2593b11-a96b-43b2-993d-4747549cbbe1",
   "metadata": {},
   "outputs": [],
   "source": [
    ">>> import numpy as np\n",
    ">>> from pyldpc import make_ldpc, encode, decode, get_message\n",
    ">>> n = 32\n",
    ">>> d_v = 4\n",
    ">>> d_c = 8\n",
    ">>> snr = 1000\n",
    ">>> H, G = make_ldpc(n, d_v, d_c, systematic=True, sparse=True)\n",
    ">>> k = G.shape[1]\n",
    ">>> v = np.random.randint(2, size=k)\n",
    ">>> y = encode(G, v, snr)\n",
    ">>> d = decode(H, y, snr)\n",
    ">>> x = get_message(G, d)\n",
    ">>> assert abs(x - v).sum() == 0"
   ]
  },
  {
   "cell_type": "code",
   "execution_count": 199,
   "id": "c57218c0-175f-4215-b410-9862bd353000",
   "metadata": {},
   "outputs": [
    {
     "name": "stdout",
     "output_type": "stream",
     "text": [
      "32\n"
     ]
    }
   ],
   "source": [
    "print(len(y))"
   ]
  },
  {
   "cell_type": "code",
   "execution_count": 200,
   "id": "03ef112e-0dff-4121-8e2d-edab1346f63e",
   "metadata": {},
   "outputs": [
    {
     "name": "stdout",
     "output_type": "stream",
     "text": [
      "19\n"
     ]
    }
   ],
   "source": [
    "print(len(v))"
   ]
  },
  {
   "cell_type": "code",
   "execution_count": 197,
   "id": "be5909c4-4da5-409d-b6c2-6a216f8a752e",
   "metadata": {},
   "outputs": [
    {
     "data": {
      "text/plain": [
       "1027"
      ]
     },
     "execution_count": 197,
     "metadata": {},
     "output_type": "execute_result"
    }
   ],
   "source": [
    "k"
   ]
  },
  {
   "cell_type": "code",
   "execution_count": 59,
   "id": "ac0cd8a5-a78a-48fb-b208-17a5fea4e0ee",
   "metadata": {},
   "outputs": [
    {
     "data": {
      "text/plain": [
       "array([1, 0, 0, 0, 1, 0, 1, 0, 0, 0, 1, 0, 1, 0, 1, 1, 0, 1, 0])"
      ]
     },
     "execution_count": 59,
     "metadata": {},
     "output_type": "execute_result"
    }
   ],
   "source": [
    "d = decode(H, y, 20)\n",
    "x = get_message(G, d)\n",
    "x\n"
   ]
  },
  {
   "cell_type": "code",
   "execution_count": 179,
   "id": "f1ff6f58-200f-4702-83fb-d447b25f8802",
   "metadata": {},
   "outputs": [
    {
     "name": "stdout",
     "output_type": "stream",
     "text": [
      "2048\n"
     ]
    }
   ],
   "source": [
    "print(len(y))"
   ]
  },
  {
   "cell_type": "code",
   "execution_count": 201,
   "id": "75c0276c-2eb5-4eac-a1a4-b0fdf77d29b8",
   "metadata": {},
   "outputs": [
    {
     "data": {
      "text/plain": [
       "array([ 1.,  1.,  1., -1.,  1.,  1.,  1., -1., -1., -1.,  1.,  1.,  1.,\n",
       "        1., -1., -1.,  1.,  1., -1.,  1.,  1.,  1.,  1.,  1., -1.,  1.,\n",
       "       -1.,  1., -1.,  1., -1., -1.])"
      ]
     },
     "execution_count": 201,
     "metadata": {},
     "output_type": "execute_result"
    }
   ],
   "source": [
    "y"
   ]
  },
  {
   "cell_type": "code",
   "execution_count": 208,
   "id": "1e7ae3a4-42bf-4679-b78b-c3ef2d155dd2",
   "metadata": {},
   "outputs": [
    {
     "data": {
      "text/plain": [
       "array([-0.        , -4.02379232, -1.1710782 , ...,  4.19242495,\n",
       "        1.43320713, -3.7753066 ])"
      ]
     },
     "execution_count": 208,
     "metadata": {},
     "output_type": "execute_result"
    }
   ],
   "source": [
    "m"
   ]
  },
  {
   "cell_type": "code",
   "execution_count": 206,
   "id": "f6de0383-cc44-4f6d-9f88-ea9ae36511c8",
   "metadata": {},
   "outputs": [],
   "source": [
    "aci = np.arcsin(0.5)  "
   ]
  },
  {
   "cell_type": "code",
   "execution_count": 207,
   "id": "bac3a39c-71e3-4627-a99d-1136c2e81320",
   "metadata": {},
   "outputs": [
    {
     "data": {
      "text/plain": [
       "array([     -0.        , -131847.60304682,  -38372.7194361 , ...,\n",
       "        137373.18829127,   46961.89798494, -123705.47121552])"
      ]
     },
     "execution_count": 207,
     "metadata": {},
     "output_type": "execute_result"
    }
   ],
   "source": [
    "modüle_edilmis_dalga"
   ]
  },
  {
   "cell_type": "code",
   "execution_count": 209,
   "id": "a5527609-2803-41b5-8e66-7539f0f1ecc0",
   "metadata": {},
   "outputs": [],
   "source": [
    "m2=modüle_edilmis_dalga/32767"
   ]
  },
  {
   "cell_type": "code",
   "execution_count": 210,
   "id": "8ee39f98-d619-4f53-b09f-74f0653ff533",
   "metadata": {},
   "outputs": [
    {
     "data": {
      "text/plain": [
       "array([-0.        , -4.02379232, -1.1710782 , ...,  4.19242495,\n",
       "        1.43320713, -3.7753066 ])"
      ]
     },
     "execution_count": 210,
     "metadata": {},
     "output_type": "execute_result"
    }
   ],
   "source": [
    "m2"
   ]
  },
  {
   "cell_type": "code",
   "execution_count": 211,
   "id": "55dbf0ac-17ba-4ce5-a2e7-88b44bf95369",
   "metadata": {},
   "outputs": [],
   "source": [
    "t = np.arange(0, 2048) / RATE\n",
    "tasiyici_dalga = np.sin(2 * np.pi * 10000 * t)\n",
    "\n",
    "\n"
   ]
  },
  {
   "cell_type": "code",
   "execution_count": 212,
   "id": "2dd7564d-dc40-4f02-a671-1a22fa02b4a6",
   "metadata": {},
   "outputs": [
    {
     "name": "stderr",
     "output_type": "stream",
     "text": [
      "/tmp/ipykernel_9541/141944224.py:1: RuntimeWarning: invalid value encountered in divide\n",
      "  genis_veri=(m2/tasiyici_dalga +1)/2\n"
     ]
    }
   ],
   "source": [
    "genis_veri=(m2/tasiyici_dalga +1)/2\n"
   ]
  },
  {
   "cell_type": "code",
   "execution_count": 213,
   "id": "be23b5bc-4505-43fe-b4f2-58c961f06d4e",
   "metadata": {},
   "outputs": [
    {
     "data": {
      "text/plain": [
       "array([ 0.        ,  0.98935543,  0.28794045, ..., -0.98087204,\n",
       "       -0.33531735,  0.88328181])"
      ]
     },
     "execution_count": 213,
     "metadata": {},
     "output_type": "execute_result"
    }
   ],
   "source": []
  },
  {
   "cell_type": "code",
   "execution_count": null,
   "id": "e88dd092-03e5-49c3-adc1-f0e8556120e3",
   "metadata": {},
   "outputs": [],
   "source": []
  }
 ],
 "metadata": {
  "kernelspec": {
   "display_name": "Python 3 (ipykernel)",
   "language": "python",
   "name": "python3"
  },
  "language_info": {
   "codemirror_mode": {
    "name": "ipython",
    "version": 3
   },
   "file_extension": ".py",
   "mimetype": "text/x-python",
   "name": "python",
   "nbconvert_exporter": "python",
   "pygments_lexer": "ipython3",
   "version": "3.12.3"
  }
 },
 "nbformat": 4,
 "nbformat_minor": 5
}
