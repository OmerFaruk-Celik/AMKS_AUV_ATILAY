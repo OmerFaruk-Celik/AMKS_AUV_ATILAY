{
 "cells": [
  {
   "cell_type": "code",
   "execution_count": 186,
   "id": "27ca997d-6581-4d1f-aa7f-6277705c9c68",
   "metadata": {},
   "outputs": [
    {
     "name": "stderr",
     "output_type": "stream",
     "text": [
      "ALSA lib pcm_dsnoop.c:601:(snd_pcm_dsnoop_open) unable to open slave\n",
      "ALSA lib pcm_dmix.c:1032:(snd_pcm_dmix_open) unable to open slave\n",
      "ALSA lib pcm.c:2664:(snd_pcm_open_noupdate) Unknown PCM cards.pcm.rear\n",
      "ALSA lib pcm.c:2664:(snd_pcm_open_noupdate) Unknown PCM cards.pcm.center_lfe\n",
      "ALSA lib pcm.c:2664:(snd_pcm_open_noupdate) Unknown PCM cards.pcm.side\n",
      "ALSA lib pcm_oss.c:397:(_snd_pcm_oss_open) Cannot open device /dev/dsp\n",
      "ALSA lib pcm_oss.c:397:(_snd_pcm_oss_open) Cannot open device /dev/dsp\n",
      "ALSA lib confmisc.c:160:(snd_config_get_card) Invalid field card\n",
      "ALSA lib pcm_usb_stream.c:482:(_snd_pcm_usb_stream_open) Invalid card 'card'\n",
      "ALSA lib confmisc.c:160:(snd_config_get_card) Invalid field card\n",
      "ALSA lib pcm_usb_stream.c:482:(_snd_pcm_usb_stream_open) Invalid card 'card'\n",
      "ALSA lib pcm_dmix.c:1032:(snd_pcm_dmix_open) unable to open slave\n"
     ]
    }
   ],
   "source": [
    "import numpy as np\n",
    "import pyaudio\n",
    "import time\n",
    "from pyldpc import make_ldpc, encode, decode, get_message\n",
    "\n",
    "# Ses kayıt parametreleri\n",
    "CHUNK = 1024*2\n",
    "FORMAT = pyaudio.paInt16\n",
    "CHANNELS = 1\n",
    "RATE = 44100\n",
    "\n",
    "# Taşıyıcı frekansı\n",
    "tasiyici_frekans = 10000\n",
    "\n",
    "\n",
    "\n",
    "\n",
    "n = 32\n",
    "d_v = 4\n",
    "d_c = 8\n",
    "snr = 10\n",
    "H, G = make_ldpc(n, d_v, d_c, systematic=True, sparse=True)\n",
    "k = G.shape[1]\n",
    "#>>> v = np.random.randint(2, size=k)\n",
    "\n",
    "# PyAudio nesnesi oluştur\n",
    "p = pyaudio.PyAudio()\n",
    "\n",
    "# Çıkış akışını aç\n",
    "stream = p.open(\n",
    "    format=FORMAT,\n",
    "    channels=CHANNELS,\n",
    "    rate=RATE,\n",
    "    output=True,\n",
    "    frames_per_buffer=CHUNK\n",
    ")\n",
    "\n",
    "# Gönderilecek veri (binary)\n",
    "v = np.array([1, 1, 1, 1, 1, 1, 1, 1, 1, 1, 1, 1, 1, 1, 1, 1, 1, 1, 1], dtype=np.int16)\n",
    "y = encode(G, v, snr)\n",
    "genisletilmis_veri = np.repeat(y, CHUNK // len(y))\n",
    "#print(genisletilmis_veri[:16])\n",
    "\n",
    "# Taşıyıcı dalga oluşturma\n",
    "t = np.arange(0, len(genisletilmis_veri)) / RATE\n",
    "tasiyici_dalga = np.sin(2 * np.pi * tasiyici_frekans * t)\n",
    "m=tasiyici_dalga * (genisletilmis_veri * 2 - 1) \n",
    "# Frekans modülasyonu\n",
    "modüle_edilmis_dalga = m*32767 #np.where(m>0,m * 32767,m*-32767)\n",
    "\n",
    "# Modüle edilmiş dalgayı ses cihazına gönderme\n",
    "for i in range(50):\n",
    "\tstream.write(modüle_edilmis_dalga.astype(np.int16).tobytes())\n",
    "\ttime.sleep(0.0015)\n",
    "# Akışı kapat\n",
    "stream.stop_stream()\n",
    "stream.close()\n",
    "p.terminate()\n"
   ]
  },
  {
   "cell_type": "code",
   "execution_count": null,
   "id": "57d42401-c65f-4d62-9be9-e7fe4d56fea8",
   "metadata": {},
   "outputs": [],
   "source": [
    "\n"
   ]
  },
  {
   "cell_type": "code",
   "execution_count": 190,
   "id": "c2593b11-a96b-43b2-993d-4747549cbbe1",
   "metadata": {},
   "outputs": [
    {
     "ename": "AssertionError",
     "evalue": "",
     "output_type": "error",
     "traceback": [
      "\u001b[0;31m---------------------------------------------------------------------------\u001b[0m",
      "\u001b[0;31mAssertionError\u001b[0m                            Traceback (most recent call last)",
      "Cell \u001b[0;32mIn[190], line 13\u001b[0m\n\u001b[1;32m     11\u001b[0m d \u001b[38;5;241m=\u001b[39m decode(H, y, snr)\n\u001b[1;32m     12\u001b[0m x \u001b[38;5;241m=\u001b[39m get_message(G, d)\n\u001b[0;32m---> 13\u001b[0m \u001b[38;5;28;01massert\u001b[39;00m \u001b[38;5;28mabs\u001b[39m(x \u001b[38;5;241m-\u001b[39m v)\u001b[38;5;241m.\u001b[39msum() \u001b[38;5;241m==\u001b[39m \u001b[38;5;241m0\u001b[39m\n",
      "\u001b[0;31mAssertionError\u001b[0m: "
     ]
    }
   ],
   "source": [
    ">>> import numpy as np\n",
    ">>> from pyldpc import make_ldpc, encode, decode, get_message\n",
    ">>> n = 2048\n",
    ">>> d_v = 4\n",
    ">>> d_c = 8\n",
    ">>> snr = 1000\n",
    ">>> H, G = make_ldpc(n, d_v, d_c, systematic=True, sparse=True)\n",
    ">>> k = G.shape[1]\n",
    ">>> v = np.random.randint(4, size=k)\n",
    ">>> y = encode(G, v, snr)\n",
    ">>> d = decode(H, y, snr)\n",
    ">>> x = get_message(G, d)\n",
    ">>> assert abs(x - v).sum() == 0"
   ]
  },
  {
   "cell_type": "code",
   "execution_count": 188,
   "id": "c57218c0-175f-4215-b410-9862bd353000",
   "metadata": {},
   "outputs": [
    {
     "name": "stdout",
     "output_type": "stream",
     "text": [
      "2048\n"
     ]
    }
   ],
   "source": [
    "print(len(y))"
   ]
  },
  {
   "cell_type": "code",
   "execution_count": 189,
   "id": "03ef112e-0dff-4121-8e2d-edab1346f63e",
   "metadata": {},
   "outputs": [
    {
     "name": "stdout",
     "output_type": "stream",
     "text": [
      "1027\n"
     ]
    }
   ],
   "source": [
    "print(len(v))"
   ]
  },
  {
   "cell_type": "code",
   "execution_count": 176,
   "id": "be5909c4-4da5-409d-b6c2-6a216f8a752e",
   "metadata": {},
   "outputs": [
    {
     "data": {
      "text/plain": [
       "1025"
      ]
     },
     "execution_count": 176,
     "metadata": {},
     "output_type": "execute_result"
    }
   ],
   "source": [
    "k"
   ]
  },
  {
   "cell_type": "code",
   "execution_count": 59,
   "id": "ac0cd8a5-a78a-48fb-b208-17a5fea4e0ee",
   "metadata": {},
   "outputs": [
    {
     "data": {
      "text/plain": [
       "array([1, 0, 0, 0, 1, 0, 1, 0, 0, 0, 1, 0, 1, 0, 1, 1, 0, 1, 0])"
      ]
     },
     "execution_count": 59,
     "metadata": {},
     "output_type": "execute_result"
    }
   ],
   "source": [
    "d = decode(H, y, 20)\n",
    "x = get_message(G, d)\n",
    "x\n"
   ]
  },
  {
   "cell_type": "code",
   "execution_count": 179,
   "id": "f1ff6f58-200f-4702-83fb-d447b25f8802",
   "metadata": {},
   "outputs": [
    {
     "name": "stdout",
     "output_type": "stream",
     "text": [
      "2048\n"
     ]
    }
   ],
   "source": [
    "print(len(y))"
   ]
  },
  {
   "cell_type": "code",
   "execution_count": 180,
   "id": "75c0276c-2eb5-4eac-a1a4-b0fdf77d29b8",
   "metadata": {},
   "outputs": [
    {
     "data": {
      "text/plain": [
       "array([-1., -1.,  1., ..., -1.,  1.,  1.])"
      ]
     },
     "execution_count": 180,
     "metadata": {},
     "output_type": "execute_result"
    }
   ],
   "source": [
    "y"
   ]
  },
  {
   "cell_type": "code",
   "execution_count": null,
   "id": "1e7ae3a4-42bf-4679-b78b-c3ef2d155dd2",
   "metadata": {},
   "outputs": [],
   "source": [
    "import numpy as np\n",
    "import pyaudio\n",
    "import time\n",
    "from pyldpc import make_ldpc, encode, decode, get_message\n",
    "\n",
    "# Ses kayıt parametreleri\n",
    "CHUNK = 1024*2\n",
    "FORMAT = pyaudio.paInt16\n",
    "CHANNELS = 1\n",
    "RATE = 44100\n",
    "\n",
    "# Taşıyıcı frekansı\n",
    "tasiyici_frekans = 10000\n",
    "\n",
    "\n",
    "\n",
    "\n",
    "n = 2048\n",
    "d_v = 4\n",
    "d_c = 8\n",
    "snr = 10\n",
    "H, G = make_ldpc(n, d_v, d_c, systematic=True, sparse=True)\n",
    "k = G.shape[1]\n",
    "#>>> v = np.random.randint(2, size=k)\n",
    "\n",
    "# PyAudio nesnesi oluştur\n",
    "p = pyaudio.PyAudio()\n",
    "\n",
    "# Çıkış akışını aç\n",
    "stream = p.open(\n",
    "    format=FORMAT,\n",
    "    channels=CHANNELS,\n",
    "    rate=RATE,\n",
    "    output=True,\n",
    "    frames_per_buffer=CHUNK\n",
    ")\n",
    "\n",
    "# Gönderilecek veri (binary)\n",
    "v = np.array([1, 1, 1, 1, 1, 1, 1, 1, 1, 1, 1, 1, 1, 1, 1, 1, 1, 1, 1], dtype=np.int16)\n",
    "y = encode(G, v, snr)\n",
    "genisletilmis_veri = np.repeat(y, CHUNK // len(y))\n",
    "#print(genisletilmis_veri[:16])\n",
    "\n",
    "# Taşıyıcı dalga oluşturma\n",
    "t = np.arange(0, len(genisletilmis_veri)) / RATE\n",
    "tasiyici_dalga = np.sin(2 * np.pi * tasiyici_frekans * t)\n",
    "m=tasiyici_dalga * (genisletilmis_veri * 2 - 1) \n",
    "# Frekans modülasyonu\n",
    "modüle_edilmis_dalga = m*32767 #np.where(m>0,m * 32767,m*-32767)\n",
    "\n",
    "# Modüle edilmiş dalgayı ses cihazına gönderme\n",
    "for i in range(50):\n",
    "\tstream.write(modüle_edilmis_dalga.astype(np.int16).tobytes())\n",
    "\ttime.sleep(0.0015)\n",
    "# Akışı kapat\n",
    "stream.stop_stream()\n",
    "stream.close()\n",
    "p.terminate()"
   ]
  }
 ],
 "metadata": {
  "kernelspec": {
   "display_name": "Python 3 (ipykernel)",
   "language": "python",
   "name": "python3"
  },
  "language_info": {
   "codemirror_mode": {
    "name": "ipython",
    "version": 3
   },
   "file_extension": ".py",
   "mimetype": "text/x-python",
   "name": "python",
   "nbconvert_exporter": "python",
   "pygments_lexer": "ipython3",
   "version": "3.12.3"
  }
 },
 "nbformat": 4,
 "nbformat_minor": 5
}
