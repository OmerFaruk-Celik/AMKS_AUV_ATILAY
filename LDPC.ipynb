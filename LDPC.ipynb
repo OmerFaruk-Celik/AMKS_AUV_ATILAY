{
 "cells": [
  {
   "cell_type": "code",
   "execution_count": 365,
   "id": "27ca997d-6581-4d1f-aa7f-6277705c9c68",
   "metadata": {},
   "outputs": [
    {
     "ename": "ValueError",
     "evalue": "shapes (32,19) and (705600,) not aligned: 19 (dim 1) != 705600 (dim 0)",
     "output_type": "error",
     "traceback": [
      "\u001b[0;31m---------------------------------------------------------------------------\u001b[0m",
      "\u001b[0;31mValueError\u001b[0m                                Traceback (most recent call last)",
      "Cell \u001b[0;32mIn[365], line 50\u001b[0m\n\u001b[1;32m     47\u001b[0m sound_bits \u001b[38;5;241m=\u001b[39m np\u001b[38;5;241m.\u001b[39munpackbits(sound_wave\u001b[38;5;241m.\u001b[39mastype(np\u001b[38;5;241m.\u001b[39mint16)\u001b[38;5;241m.\u001b[39mview(np\u001b[38;5;241m.\u001b[39muint8))\n\u001b[1;32m     49\u001b[0m \u001b[38;5;66;03m# Bitleri kodlama\u001b[39;00m\n\u001b[0;32m---> 50\u001b[0m encoded_bits \u001b[38;5;241m=\u001b[39m \u001b[43mencode\u001b[49m\u001b[43m(\u001b[49m\u001b[43mG\u001b[49m\u001b[43m,\u001b[49m\u001b[43m \u001b[49m\u001b[43msound_bits\u001b[49m\u001b[43m,\u001b[49m\u001b[43m \u001b[49m\u001b[43msnr\u001b[49m\u001b[43m)\u001b[49m\n\u001b[1;32m     52\u001b[0m \u001b[38;5;66;03m# AM Modülasyonu\u001b[39;00m\n\u001b[1;32m     53\u001b[0m t \u001b[38;5;241m=\u001b[39m np\u001b[38;5;241m.\u001b[39marange(\u001b[38;5;241m0\u001b[39m, \u001b[38;5;28mlen\u001b[39m(encoded_bits)) \u001b[38;5;241m/\u001b[39m RATE\n",
      "File \u001b[0;32m~/miniconda3/envs/tubitak2209/lib/python3.12/site-packages/pyldpc/encoder.py:56\u001b[0m, in \u001b[0;36mencode\u001b[0;34m(tG, v, snr, seed)\u001b[0m\n\u001b[1;32m     53\u001b[0m n, k \u001b[38;5;241m=\u001b[39m tG\u001b[38;5;241m.\u001b[39mshape\n\u001b[1;32m     55\u001b[0m rng \u001b[38;5;241m=\u001b[39m utils\u001b[38;5;241m.\u001b[39mcheck_random_state(seed)\n\u001b[0;32m---> 56\u001b[0m d \u001b[38;5;241m=\u001b[39m \u001b[43mutils\u001b[49m\u001b[38;5;241;43m.\u001b[39;49m\u001b[43mbinaryproduct\u001b[49m\u001b[43m(\u001b[49m\u001b[43mtG\u001b[49m\u001b[43m,\u001b[49m\u001b[43m \u001b[49m\u001b[43mv\u001b[49m\u001b[43m)\u001b[49m\n\u001b[1;32m     57\u001b[0m x \u001b[38;5;241m=\u001b[39m (\u001b[38;5;241m-\u001b[39m\u001b[38;5;241m1\u001b[39m) \u001b[38;5;241m*\u001b[39m\u001b[38;5;241m*\u001b[39m d\n\u001b[1;32m     59\u001b[0m sigma \u001b[38;5;241m=\u001b[39m \u001b[38;5;241m10\u001b[39m \u001b[38;5;241m*\u001b[39m\u001b[38;5;241m*\u001b[39m (\u001b[38;5;241m-\u001b[39m snr \u001b[38;5;241m/\u001b[39m \u001b[38;5;241m20\u001b[39m)\n",
      "File \u001b[0;32m~/miniconda3/envs/tubitak2209/lib/python3.12/site-packages/pyldpc/utils.py:30\u001b[0m, in \u001b[0;36mbinaryproduct\u001b[0;34m(X, Y)\u001b[0m\n\u001b[1;32m     28\u001b[0m \u001b[38;5;28;01mdef\u001b[39;00m \u001b[38;5;21mbinaryproduct\u001b[39m(X, Y):\n\u001b[1;32m     29\u001b[0m \u001b[38;5;250m    \u001b[39m\u001b[38;5;124;03m\"\"\"Compute a matrix-matrix / vector product in Z/2Z.\"\"\"\u001b[39;00m\n\u001b[0;32m---> 30\u001b[0m     A \u001b[38;5;241m=\u001b[39m \u001b[43mX\u001b[49m\u001b[38;5;241;43m.\u001b[39;49m\u001b[43mdot\u001b[49m\u001b[43m(\u001b[49m\u001b[43mY\u001b[49m\u001b[43m)\u001b[49m\n\u001b[1;32m     31\u001b[0m     \u001b[38;5;28;01mtry\u001b[39;00m:\n\u001b[1;32m     32\u001b[0m         A \u001b[38;5;241m=\u001b[39m A\u001b[38;5;241m.\u001b[39mtoarray()\n",
      "\u001b[0;31mValueError\u001b[0m: shapes (32,19) and (705600,) not aligned: 19 (dim 1) != 705600 (dim 0)"
     ]
    }
   ],
   "source": [
    "import numpy as np\n",
    "import pyaudio\n",
    "import time\n",
    "from pyldpc import make_ldpc, encode, decode, get_message\n",
    "\n",
    "# Ses kayıt parametreleri\n",
    "CHUNK = 1024*2\n",
    "FORMAT = pyaudio.paInt16\n",
    "CHANNELS = 1\n",
    "RATE = 44100\n",
    "\n",
    "# Taşıyıcı frekansı\n",
    "tasiyici_frekans = 3000\n",
    "\n",
    "# LDPC kodlama parametreleri\n",
    "n = 32\n",
    "d_v = 4\n",
    "d_c = 8\n",
    "snr = 1000\n",
    "H, G = make_ldpc(n, d_v, d_c, systematic=True, sparse=True)\n",
    "k = G.shape[1]\n",
    "\n",
    "# PyAudio nesnesi oluştur\n",
    "p = pyaudio.PyAudio()\n",
    "\n",
    "# Çıkış akışını aç\n",
    "stream = p.open(\n",
    "    format=FORMAT,\n",
    "    channels=CHANNELS,\n",
    "    rate=RATE,\n",
    "    output=True,\n",
    "    frames_per_buffer=CHUNK\n",
    ")\n",
    "\n",
    "# Gönderilecek veri (binary)\n",
    "v = np.array([1, 0, 1, 0, 1, 0, 1, 0, 1, 0, 1, 0, 1, 1, 1, 1, 1, 1, 1], dtype=np.int16)\n",
    "y = encode(G, v, snr)\n",
    "\n",
    "# Ses örneği oluşturma\n",
    "sample_rate = 44100\n",
    "duration = 1  # Sesin süresi (saniye)\n",
    "samples = int(sample_rate * duration)\n",
    "time_samples = np.arange(samples) / sample_rate\n",
    "sound_wave = np.sin(2 * np.pi * 440 * time_samples)  # 440 Hz'lik bir sinüs dalgası\n",
    "\n",
    "# Ses verisini bitlere dönüştürme\n",
    "sound_bits = np.unpackbits(sound_wave.astype(np.int16).view(np.uint8))\n",
    "\n",
    "# Bitleri kodlama\n",
    "encoded_bits = encode(G, sound_bits, snr)\n",
    "\n",
    "# AM Modülasyonu\n",
    "t = np.arange(0, len(encoded_bits)) / RATE\n",
    "tasiyici_dalga = np.sin(2 * np.pi * tasiyici_frekans * t)\n",
    "modüle_edilmis_dalga = tasiyici_dalga * (encoded_bits * 2 - 1)\n",
    "\n",
    "# Modüle edilmiş dalgayı ses cihazına gönderme\n",
    "for i in range(50):\n",
    "    stream.write(modüle_edilmis_dalga.astype(np.int16).tobytes())\n",
    "    time.sleep(0.0002)\n",
    "\n",
    "# Akışı kapat\n",
    "stream.stop_stream()\n",
    "stream.close()\n",
    "p.terminate()"
   ]
  },
  {
   "cell_type": "code",
   "execution_count": 367,
   "id": "57d42401-c65f-4d62-9be9-e7fe4d56fea8",
   "metadata": {},
   "outputs": [
    {
     "name": "stdout",
     "output_type": "stream",
     "text": [
      "705600\n"
     ]
    }
   ],
   "source": [
    "print(len(sound_bits))\n"
   ]
  },
  {
   "cell_type": "code",
   "execution_count": 198,
   "id": "c2593b11-a96b-43b2-993d-4747549cbbe1",
   "metadata": {},
   "outputs": [],
   "source": [
    ">>> import numpy as np\n",
    ">>> from pyldpc import make_ldpc, encode, decode, get_message\n",
    ">>> n = 32\n",
    ">>> d_v = 4\n",
    ">>> d_c = 8\n",
    ">>> snr = 1000\n",
    ">>> H, G = make_ldpc(n, d_v, d_c, systematic=True, sparse=True)\n",
    ">>> k = G.shape[1]\n",
    ">>> v = np.random.randint(2, size=k)\n",
    ">>> y = encode(G, v, snr)\n",
    ">>> d = decode(H, y, snr)\n",
    ">>> x = get_message(G, d)\n",
    ">>> assert abs(x - v).sum() == 0"
   ]
  },
  {
   "cell_type": "code",
   "execution_count": 199,
   "id": "c57218c0-175f-4215-b410-9862bd353000",
   "metadata": {},
   "outputs": [
    {
     "name": "stdout",
     "output_type": "stream",
     "text": [
      "32\n"
     ]
    }
   ],
   "source": [
    "print(len(y))"
   ]
  },
  {
   "cell_type": "code",
   "execution_count": 200,
   "id": "03ef112e-0dff-4121-8e2d-edab1346f63e",
   "metadata": {},
   "outputs": [
    {
     "name": "stdout",
     "output_type": "stream",
     "text": [
      "19\n"
     ]
    }
   ],
   "source": [
    "print(len(v))"
   ]
  },
  {
   "cell_type": "code",
   "execution_count": 197,
   "id": "be5909c4-4da5-409d-b6c2-6a216f8a752e",
   "metadata": {},
   "outputs": [
    {
     "data": {
      "text/plain": [
       "1027"
      ]
     },
     "execution_count": 197,
     "metadata": {},
     "output_type": "execute_result"
    }
   ],
   "source": [
    "k"
   ]
  },
  {
   "cell_type": "code",
   "execution_count": 59,
   "id": "ac0cd8a5-a78a-48fb-b208-17a5fea4e0ee",
   "metadata": {},
   "outputs": [
    {
     "data": {
      "text/plain": [
       "array([1, 0, 0, 0, 1, 0, 1, 0, 0, 0, 1, 0, 1, 0, 1, 1, 0, 1, 0])"
      ]
     },
     "execution_count": 59,
     "metadata": {},
     "output_type": "execute_result"
    }
   ],
   "source": [
    "d = decode(H, y, 20)\n",
    "x = get_message(G, d)\n",
    "x\n"
   ]
  },
  {
   "cell_type": "code",
   "execution_count": 179,
   "id": "f1ff6f58-200f-4702-83fb-d447b25f8802",
   "metadata": {},
   "outputs": [
    {
     "name": "stdout",
     "output_type": "stream",
     "text": [
      "2048\n"
     ]
    }
   ],
   "source": [
    "print(len(y))"
   ]
  },
  {
   "cell_type": "code",
   "execution_count": 229,
   "id": "75c0276c-2eb5-4eac-a1a4-b0fdf77d29b8",
   "metadata": {},
   "outputs": [
    {
     "data": {
      "text/plain": [
       "array([-1., -1., -1., -1., -1., -1., -1., -1., -1., -1., -1., -1., -1.,\n",
       "       -1., -1., -1., -1., -1., -1., -1., -1., -1., -1., -1., -1., -1.,\n",
       "       -1., -1., -1., -1., -1., -1.])"
      ]
     },
     "execution_count": 229,
     "metadata": {},
     "output_type": "execute_result"
    }
   ],
   "source": [
    "y"
   ]
  },
  {
   "cell_type": "code",
   "execution_count": 208,
   "id": "1e7ae3a4-42bf-4679-b78b-c3ef2d155dd2",
   "metadata": {},
   "outputs": [
    {
     "data": {
      "text/plain": [
       "array([-0.        , -4.02379232, -1.1710782 , ...,  4.19242495,\n",
       "        1.43320713, -3.7753066 ])"
      ]
     },
     "execution_count": 208,
     "metadata": {},
     "output_type": "execute_result"
    }
   ],
   "source": [
    "m"
   ]
  },
  {
   "cell_type": "code",
   "execution_count": 206,
   "id": "f6de0383-cc44-4f6d-9f88-ea9ae36511c8",
   "metadata": {},
   "outputs": [],
   "source": [
    "aci = np.arcsin(0.5)  "
   ]
  },
  {
   "cell_type": "code",
   "execution_count": 239,
   "id": "bac3a39c-71e3-4627-a99d-1136c2e81320",
   "metadata": {},
   "outputs": [
    {
     "data": {
      "text/plain": [
       "array([    -0.        , -13958.18344955, -27633.50355162, ...,\n",
       "       -70857.59588664, -60464.94083526, -48846.96046613])"
      ]
     },
     "execution_count": 239,
     "metadata": {},
     "output_type": "execute_result"
    }
   ],
   "source": [
    "modüle_edilmis_dalga"
   ]
  },
  {
   "cell_type": "code",
   "execution_count": 296,
   "id": "a5527609-2803-41b5-8e66-7539f0f1ecc0",
   "metadata": {},
   "outputs": [],
   "source": [
    "m2=modüle_edilmis_dalga/32767"
   ]
  },
  {
   "cell_type": "code",
   "execution_count": 297,
   "id": "8ee39f98-d619-4f53-b09f-74f0653ff533",
   "metadata": {},
   "outputs": [
    {
     "data": {
      "text/plain": [
       "array([-0.        , -0.42598295, -0.84333334, ..., -2.16246821,\n",
       "       -1.84529987, -1.49073643])"
      ]
     },
     "execution_count": 297,
     "metadata": {},
     "output_type": "execute_result"
    }
   ],
   "source": [
    "m2"
   ]
  },
  {
   "cell_type": "code",
   "execution_count": 330,
   "id": "55dbf0ac-17ba-4ce5-a2e7-88b44bf95369",
   "metadata": {},
   "outputs": [],
   "source": [
    "t = np.arange(0, 2048) / RATE\n",
    "tasiyici_dalga = np.sin(2 * np.pi * 1000 * t)\n",
    "tasiyici_dalga=np.where(tasiyici_dalga==0,1e-10,tasiyici_dalga)\n",
    "\n",
    "\n"
   ]
  },
  {
   "cell_type": "code",
   "execution_count": 326,
   "id": "2dd7564d-dc40-4f02-a671-1a22fa02b4a6",
   "metadata": {},
   "outputs": [],
   "source": [
    "genis_veri=(m2/tasiyici_dalga +1)/2\n"
   ]
  },
  {
   "cell_type": "code",
   "execution_count": 327,
   "id": "be23b5bc-4505-43fe-b4f2-58c961f06d4e",
   "metadata": {},
   "outputs": [
    {
     "data": {
      "text/plain": [
       "array([1, 0, 1, 0, 1, 0, 1, 1, 1, 1, 1, 1, 1, 1, 1, 1, 1, 1, 1])"
      ]
     },
     "execution_count": 327,
     "metadata": {},
     "output_type": "execute_result"
    }
   ],
   "source": [
    "al(genis_veri)"
   ]
  },
  {
   "cell_type": "code",
   "execution_count": 328,
   "id": "e88dd092-03e5-49c3-adc1-f0e8556120e3",
   "metadata": {},
   "outputs": [],
   "source": [
    "def al(data):\n",
    "\tn = 32\n",
    "\td_v = 4\n",
    "\td_c = 8\n",
    "\tsnr = 20\n",
    "\tH, G = make_ldpc(n, d_v, d_c, systematic=True, sparse=True)\n",
    "\tgruplar = [data[i:i+64] for i in range(0, len(data), 64)]\n",
    "\tana_ort=np.abs(np.mean(data))\n",
    "\tortalamalar =[]\n",
    "\t\n",
    "\tfor grup in gruplar:\n",
    "\t\tortalama=np.mean(grup)\n",
    "\t\tif ortalama <0:\n",
    "\t\t\tortalamalar.append(ortalama)\n",
    "\t\telse:\n",
    "\t\t\tortalamalar.append(ortalama)\n",
    "\tortalamalar=np.array(ortalamalar)\t\n",
    "\t#print(ortalamalar[0])\t\n",
    "\td = decode(H, ortalamalar, snr)\n",
    "\tx=get_message(G, d)\n",
    "\t\t\t\n",
    "\treturn x"
   ]
  },
  {
   "cell_type": "code",
   "execution_count": 329,
   "id": "6cef2208-d07f-4460-aee6-55d59001ded7",
   "metadata": {},
   "outputs": [
    {
     "data": {
      "text/plain": [
       "array([ 0.5, -1. , -1. , ..., -1. , -1. , -1. ])"
      ]
     },
     "execution_count": 329,
     "metadata": {},
     "output_type": "execute_result"
    }
   ],
   "source": [
    "genis_veri"
   ]
  },
  {
   "cell_type": "code",
   "execution_count": 248,
   "id": "2811d72e-4404-4074-bd28-27db0296e9f6",
   "metadata": {},
   "outputs": [
    {
     "data": {
      "text/plain": [
       "1.0"
      ]
     },
     "execution_count": 248,
     "metadata": {},
     "output_type": "execute_result"
    }
   ],
   "source": [
    "1e-10*10**10\n"
   ]
  },
  {
   "cell_type": "code",
   "execution_count": 255,
   "id": "71ed8143-0b43-4f51-908e-fcddb2b679b1",
   "metadata": {},
   "outputs": [
    {
     "data": {
      "text/plain": [
       "array([ 0.5       ,  0.28471693, -0.96442318, ...,  1.60231922,\n",
       "        3.25157234, -0.34386229])"
      ]
     },
     "execution_count": 255,
     "metadata": {},
     "output_type": "execute_result"
    }
   ],
   "source": [
    "genis_veri"
   ]
  },
  {
   "cell_type": "code",
   "execution_count": 256,
   "id": "56d004c1-fb11-4594-8b62-20fd4cec8107",
   "metadata": {},
   "outputs": [
    {
     "data": {
      "text/plain": [
       "array([-1., -1., -1., ..., -1., -1., -1.])"
      ]
     },
     "execution_count": 256,
     "metadata": {},
     "output_type": "execute_result"
    }
   ],
   "source": [
    "genisletilmis_veri"
   ]
  },
  {
   "cell_type": "code",
   "execution_count": null,
   "id": "cb8d9bb9-943b-4a07-a0ca-f3c1206ceb8b",
   "metadata": {},
   "outputs": [],
   "source": []
  }
 ],
 "metadata": {
  "kernelspec": {
   "display_name": "Python 3 (ipykernel)",
   "language": "python",
   "name": "python3"
  },
  "language_info": {
   "codemirror_mode": {
    "name": "ipython",
    "version": 3
   },
   "file_extension": ".py",
   "mimetype": "text/x-python",
   "name": "python",
   "nbconvert_exporter": "python",
   "pygments_lexer": "ipython3",
   "version": "3.12.3"
  }
 },
 "nbformat": 4,
 "nbformat_minor": 5
}
