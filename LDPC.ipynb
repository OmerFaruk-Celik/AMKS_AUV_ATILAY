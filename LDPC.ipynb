{
 "cells": [
  {
   "cell_type": "code",
   "execution_count": 10,
   "id": "27ca997d-6581-4d1f-aa7f-6277705c9c68",
   "metadata": {},
   "outputs": [
    {
     "name": "stdout",
     "output_type": "stream",
     "text": [
      "Orijinal veri: [1 0 1 1 0 0 1 0 1 0 0 1 1 1 0 1]\n",
      "Kodlanmış veri: [1. 1. 0. 1. 0. 1. 1. 0. 0. 0. 1. 1. 0. 1. 0. 1.]\n",
      "Gürültülü veri: [1. 1. 1. 1. 0. 0. 1. 0. 0. 0. 1. 1. 0. 1. 0. 1.]\n",
      "Çözülmüş veri: [0. 0. 1. 0. 1. 0. 1. 0. 0. 0. 1. 1. 0. 1. 0. 1.]\n"
     ]
    }
   ],
   "source": [
    "import numpy as np\n",
    "\n",
    "def kodla(data, H):\n",
    "  \"\"\"\n",
    "  LDPC kodlayıcı fonksiyonu.\n",
    "\n",
    "  Args:\n",
    "      data: Kodlanacak 16 bitlik veri.\n",
    "      H: Parite kontrol matrisi.\n",
    "\n",
    "  Returns:\n",
    "      Kodlanmış veri.\n",
    "  \"\"\"\n",
    "\n",
    "  k = len(data)\n",
    "  n = H.shape[1]\n",
    "  x = np.concatenate((data, np.zeros(n - k)))\n",
    "\n",
    "  # Parite kontrol denklemlerini kullanarak kodlama\n",
    "  for i in range(H.shape[0]):\n",
    "    # H matrisindeki her satır için\n",
    "    satir = H[i]\n",
    "    # Matrisin ilgili sütunlarındaki verilerin toplamını hesaplama\n",
    "    toplam = np.dot(satir, x)\n",
    "    # Eğer toplam 1 ise, ilgili parite bitini değiştirme\n",
    "    if toplam % 2 == 1:\n",
    "      # **Düzeltme:** \n",
    "      # Parite bitinin indeksini doğru şekilde belirle\n",
    "      parite_bit_index = np.where(satir == 1)[0][0]  \n",
    "      # ilgili parite bitini değiştir\n",
    "      x[parite_bit_index] = 1 - x[parite_bit_index]\n",
    "\n",
    "  return x\n",
    "\n",
    "def geri_al(alınan_veri, H, max_iterasyon=50):\n",
    "  \"\"\"\n",
    "  Belief Propagation (İnanç Yayılımı) algoritması kullanarak LDPC kod çözücü.\n",
    "\n",
    "  Args:\n",
    "      alınan_veri: Alınan kodlanmış veri.\n",
    "      H: Parite kontrol matrisi.\n",
    "      max_iterasyon: Maksimum iterasyon sayısı.\n",
    "\n",
    "  Returns:\n",
    "      Çözülmüş veri.\n",
    "  \"\"\"\n",
    "\n",
    "  n = H.shape[1]\n",
    "  x = np.copy(alınan_veri)\n",
    "\n",
    "  # İteratif olarak mesajları ileterek kod çözme\n",
    "  for _ in range(max_iterasyon):\n",
    "    # Mesajları düğümler arasında iletmek için döngü\n",
    "    for i in range(n):\n",
    "      # Her bir veri düğümü için\n",
    "      for j in range(H.shape[0]):\n",
    "        # H matrisinde 1 olan satır ve sütun indekslerini bulma\n",
    "        if H[j, i] == 1:\n",
    "          # Düğümden gelen mesajı hesaplama\n",
    "          mesaj = hesapla_mesaj(H, x, j, i)\n",
    "          # Mesajı ilgili parite kontrol düğümüne gönderme\n",
    "          x[i] = mesaj\n",
    "\n",
    "    # Tüm mesajlar iletildikten sonra, en olası değerlere göre karar verme\n",
    "    x = np.round(x)\n",
    "\n",
    "  # Kodlanmış veriden orijinal veriyi çıkarma\n",
    "  return x[:16]\n",
    "\n",
    "def hesapla_mesaj(H, x, j, i):\n",
    "  \"\"\"\n",
    "  Bir veri düğümünden bir parite kontrol düğümüne mesaj hesaplar.\n",
    "\n",
    "  Args:\n",
    "      H: Parite kontrol matrisi.\n",
    "      x: Veri vektörü.\n",
    "      j: Parite kontrol düğümü indeksi.\n",
    "      i: Veri düğümü indeksi.\n",
    "\n",
    "  Returns:\n",
    "      Hesaplanan mesaj.\n",
    "  \"\"\"\n",
    "\n",
    "  # Parite kontrol düğümüne bağlı diğer veri düğümlerinin indekslerini bulma\n",
    "  diğer_düğümler = np.where(H[j] == 1)[0]\n",
    "  diğer_düğümler = diğer_düğümler[diğer_düğümler != i]\n",
    "\n",
    "  # Diğer veri düğümlerinden gelen mesajların toplamını hesaplama\n",
    "  toplam = 0\n",
    "  for k in diğer_düğümler:\n",
    "    toplam += x[k]\n",
    "\n",
    "  # Mesajı hesaplama\n",
    "  mesaj = 1 - (toplam % 2)\n",
    "\n",
    "  return mesaj\n",
    "\n",
    "# 16 bitlik örnek veri\n",
    "data = np.array([1, 0, 1, 1, 0, 0, 1, 0, 1, 0, 0, 1, 1, 1, 0, 1])\n",
    "\n",
    "H = np.array([[1, 1, 0, 0, 1, 0, 0, 0, 0, 0, 0, 0, 0, 0, 0, 1],\n",
    "              [0, 0, 1, 1, 0, 1, 0, 0, 0, 0, 0, 0, 0, 0, 1, 0],\n",
    "              [0, 0, 0, 0, 0, 0, 1, 1, 0, 1, 0, 0, 0, 1, 0, 0],\n",
    "              [0, 0, 0, 0, 0, 0, 0, 0, 1, 1, 0, 1, 1, 0, 0, 0],\n",
    "              [0, 0, 0, 0, 0, 0, 0, 0, 0, 0, 1, 1, 0, 0, 1, 0],\n",
    "              [0, 0, 0, 0, 0, 0, 0, 0, 0, 0, 0, 0, 1, 1, 0, 1],\n",
    "              [1, 0, 0, 0, 0, 0, 0, 0, 0, 0, 0, 0, 0, 0, 1, 1],\n",
    "              [0, 1, 0, 0, 0, 0, 0, 0, 0, 0, 0, 0, 0, 1, 1, 0],\n",
    "              [0, 0, 1, 0, 0, 0, 1, 0, 0, 0, 0, 1, 0, 0, 0, 0],  # Yeni satır\n",
    "              [0, 0, 0, 0, 1, 0, 0, 1, 0, 0, 0, 0, 1, 0, 0, 0],  # Yeni satır\n",
    "              [0, 0, 0, 0, 0, 1, 0, 0, 1, 0, 1, 0, 0, 0, 0, 0]])  # Yeni satır\n",
    "\n",
    "# Veriyi kodlama\n",
    "kodlanmış_veri = kodla(data, H)\n",
    "\n",
    "# Gürültü ekleme (örnek olarak 2 bit değiştirilmiş)\n",
    "gürültülü_veri = np.copy(kodlanmış_veri)\n",
    "gürültülü_veri[2] = 1 - gürültülü_veri[2]\n",
    "gürültülü_veri[5] = 1 - gürültülü_veri[5]\n",
    "\n",
    "# Veriyi çözme\n",
    "çözülmüş_veri = geri_al(gürültülü_veri, H, max_iterasyon=100) # İterasyon sayısını artırdık\n",
    "\n",
    "print(\"Orijinal veri:\", data)\n",
    "print(\"Kodlanmış veri:\", kodlanmış_veri)\n",
    "print(\"Gürültülü veri:\", gürültülü_veri)\n",
    "print(\"Çözülmüş veri:\", çözülmüş_veri)"
   ]
  },
  {
   "cell_type": "code",
   "execution_count": 11,
   "id": "57d42401-c65f-4d62-9be9-e7fe4d56fea8",
   "metadata": {},
   "outputs": [
    {
     "ename": "ValueError",
     "evalue": "shapes (3,) and (6,3) not aligned: 3 (dim 0) != 6 (dim 0)",
     "output_type": "error",
     "traceback": [
      "\u001b[0;31m---------------------------------------------------------------------------\u001b[0m",
      "\u001b[0;31mValueError\u001b[0m                                Traceback (most recent call last)",
      "Cell \u001b[0;32mIn[11], line 12\u001b[0m\n\u001b[1;32m      9\u001b[0m mesaj \u001b[38;5;241m=\u001b[39m np\u001b[38;5;241m.\u001b[39marray([\u001b[38;5;241m1\u001b[39m, \u001b[38;5;241m0\u001b[39m, \u001b[38;5;241m1\u001b[39m])\n\u001b[1;32m     11\u001b[0m \u001b[38;5;66;03m# Kodlama\u001b[39;00m\n\u001b[0;32m---> 12\u001b[0m kodlanmış_kelime \u001b[38;5;241m=\u001b[39m \u001b[43mnp\u001b[49m\u001b[38;5;241;43m.\u001b[39;49m\u001b[43mdot\u001b[49m\u001b[43m(\u001b[49m\u001b[43mmesaj\u001b[49m\u001b[43m,\u001b[49m\u001b[43m \u001b[49m\u001b[43mH\u001b[49m\u001b[38;5;241;43m.\u001b[39;49m\u001b[43mtranspose\u001b[49m\u001b[43m(\u001b[49m\u001b[43m)\u001b[49m\u001b[43m)\u001b[49m\n\u001b[1;32m     14\u001b[0m \u001b[38;5;66;03m# Gürültü ekleme\u001b[39;00m\n\u001b[1;32m     15\u001b[0m gürültülü_kelime \u001b[38;5;241m=\u001b[39m kodlanmış_kelime\u001b[38;5;241m.\u001b[39mcopy()\n",
      "\u001b[0;31mValueError\u001b[0m: shapes (3,) and (6,3) not aligned: 3 (dim 0) != 6 (dim 0)"
     ]
    }
   ],
   "source": [
    "import numpy as np\n",
    "\n",
    "# Parite kontrol matrisi\n",
    "H = np.array([[1, 0, 1, 0, 1, 0],\n",
    "              [0, 1, 1, 1, 0, 0],\n",
    "              [1, 1, 0, 0, 0, 1]])\n",
    "\n",
    "# Mesaj\n",
    "mesaj = np.array([1, 0, 1])\n",
    "\n",
    "# Kodlama\n",
    "kodlanmış_kelime = np.dot(mesaj, H.transpose())\n",
    "\n",
    "# Gürültü ekleme\n",
    "gürültülü_kelime = kodlanmış_kelime.copy()\n",
    "gürültülü_kelime[2] = 0  # 3. bitte hata ekleme\n",
    "\n",
    "# Çözme (İteratif Mesaj Geçişi ile)\n",
    "def belief_propagation(gürültülü_kelime, H):\n",
    "  \"\"\"İteratif Mesaj Geçişi algoritmasını kullanarak LDPC çözme.\"\"\"\n",
    "  n = len(gürültülü_kelime)\n",
    "  m = H.shape[0]\n",
    "  \n",
    "  # Mesajları başlat\n",
    "  mesajlar_düğümlerden_kontrol_nodlarına = np.zeros((n, m))\n",
    "  mesajlar_kontrol_nodlarından_düğümlere = np.zeros((n, m))\n",
    "\n",
    "  # İterasyonlar\n",
    "  for _ in range(10):  # İterasyon sayısını ayarlayabilirsiniz\n",
    "    # Düğümden kontrol noduna mesajlar\n",
    "    for i in range(n):\n",
    "      for j in range(m):\n",
    "        if H[j, i] == 1:\n",
    "          mesajlar_düğümlerden_kontrol_nodlarına[i, j] = gürültülü_kelime[i]\n",
    "          for k in range(m):\n",
    "            if k != j and H[k, i] == 1:\n",
    "              mesajlar_düğümlerden_kontrol_nodlarına[i, j] ^= mesajlar_kontrol_nodlarından_düğümlere[i, k]\n",
    "\n",
    "    # Kontrol nodundan düğüme mesajlar\n",
    "    for j in range(m):\n",
    "      for i in range(n):\n",
    "        if H[j, i] == 1:\n",
    "          mesajlar_kontrol_nodlarından_düğümlere[i, j] = 0\n",
    "          for k in range(n):\n",
    "            if k != i and H[j, k] == 1:\n",
    "              mesajlar_kontrol_nodlarından_düğümlere[i, j] ^= mesajlar_düğümlerden_kontrol_nodlarına[k, j]\n",
    "\n",
    "  # Çözüm\n",
    "  çözüm = np.zeros(n)\n",
    "  for i in range(n):\n",
    "    for j in range(m):\n",
    "      if H[j, i] == 1:\n",
    "        çözüm[i] ^= mesajlar_kontrol_nodlarından_düğümlere[i, j]\n",
    "  \n",
    "  return çözüm\n",
    "\n",
    "çözüm = belief_propagation(gürültülü_kelime, H)\n",
    "\n",
    "# Sonuçlar\n",
    "print(\"Orijinal mesaj:\", mesaj)\n",
    "print(\"Kodlanmış kelime:\", kodlanmış_kelime)\n",
    "print(\"Gürültülü kelime:\", gürültülü_kelime)\n",
    "print(\"Çözülen mesaj:\", çözüm)"
   ]
  },
  {
   "cell_type": "code",
   "execution_count": 24,
   "id": "c2593b11-a96b-43b2-993d-4747549cbbe1",
   "metadata": {},
   "outputs": [],
   "source": [
    ">>> import numpy as np\n",
    ">>> from pyldpc import make_ldpc, encode, decode, get_message\n",
    ">>> n = 16\n",
    ">>> d_v = 4\n",
    ">>> d_c = 8\n",
    ">>> snr = 20\n",
    ">>> H, G = make_ldpc(n, d_v, d_c, systematic=True, sparse=True)\n",
    ">>> k = G.shape[1]\n",
    ">>> v = np.random.randint(2, size=k)\n",
    ">>> y = encode(G, v, snr)\n",
    ">>> d = decode(H, y, snr)\n",
    ">>> x = get_message(G, d)\n",
    ">>> assert abs(x - v).sum() == 0"
   ]
  },
  {
   "cell_type": "code",
   "execution_count": 25,
   "id": "c57218c0-175f-4215-b410-9862bd353000",
   "metadata": {},
   "outputs": [
    {
     "data": {
      "text/plain": [
       "11"
      ]
     },
     "execution_count": 25,
     "metadata": {},
     "output_type": "execute_result"
    }
   ],
   "source": [
    "k"
   ]
  },
  {
   "cell_type": "code",
   "execution_count": 26,
   "id": "03ef112e-0dff-4121-8e2d-edab1346f63e",
   "metadata": {},
   "outputs": [
    {
     "data": {
      "text/plain": [
       "array([0, 0, 0, 1, 0, 0, 0, 0, 0, 1, 1])"
      ]
     },
     "execution_count": 26,
     "metadata": {},
     "output_type": "execute_result"
    }
   ],
   "source": [
    "v"
   ]
  },
  {
   "cell_type": "code",
   "execution_count": 27,
   "id": "be5909c4-4da5-409d-b6c2-6a216f8a752e",
   "metadata": {},
   "outputs": [
    {
     "data": {
      "text/plain": [
       "array([ 1.06425412,  0.94640448,  0.92090987, -0.91762292,  0.80672584,\n",
       "        1.06328019,  1.06844534,  1.139491  ,  1.05198552, -1.12621343,\n",
       "       -0.96011364, -0.92503552,  1.04277694,  1.05605957,  1.05192846,\n",
       "        0.95173482])"
      ]
     },
     "execution_count": 27,
     "metadata": {},
     "output_type": "execute_result"
    }
   ],
   "source": [
    "y"
   ]
  },
  {
   "cell_type": "code",
   "execution_count": 28,
   "id": "ac0cd8a5-a78a-48fb-b208-17a5fea4e0ee",
   "metadata": {},
   "outputs": [
    {
     "data": {
      "text/plain": [
       "array([0, 0, 0, 1, 0, 0, 0, 0, 0, 1, 1, 1, 0, 0, 0, 0])"
      ]
     },
     "execution_count": 28,
     "metadata": {},
     "output_type": "execute_result"
    }
   ],
   "source": [
    "d"
   ]
  },
  {
   "cell_type": "code",
   "execution_count": 29,
   "id": "f1ff6f58-200f-4702-83fb-d447b25f8802",
   "metadata": {},
   "outputs": [
    {
     "data": {
      "text/plain": [
       "array([0, 0, 0, 1, 0, 0, 0, 0, 0, 1, 1])"
      ]
     },
     "execution_count": 29,
     "metadata": {},
     "output_type": "execute_result"
    }
   ],
   "source": [
    "x"
   ]
  },
  {
   "cell_type": "code",
   "execution_count": 19,
   "id": "75c0276c-2eb5-4eac-a1a4-b0fdf77d29b8",
   "metadata": {},
   "outputs": [
    {
     "data": {
      "text/plain": [
       "6"
      ]
     },
     "execution_count": 19,
     "metadata": {},
     "output_type": "execute_result"
    }
   ],
   "source": [
    "k"
   ]
  },
  {
   "cell_type": "code",
   "execution_count": null,
   "id": "1e7ae3a4-42bf-4679-b78b-c3ef2d155dd2",
   "metadata": {},
   "outputs": [],
   "source": []
  }
 ],
 "metadata": {
  "kernelspec": {
   "display_name": "Python 3 (ipykernel)",
   "language": "python",
   "name": "python3"
  },
  "language_info": {
   "codemirror_mode": {
    "name": "ipython",
    "version": 3
   },
   "file_extension": ".py",
   "mimetype": "text/x-python",
   "name": "python",
   "nbconvert_exporter": "python",
   "pygments_lexer": "ipython3",
   "version": "3.12.3"
  }
 },
 "nbformat": 4,
 "nbformat_minor": 5
}
